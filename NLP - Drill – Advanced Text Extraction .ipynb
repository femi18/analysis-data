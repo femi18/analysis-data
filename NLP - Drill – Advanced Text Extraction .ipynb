{
 "cells": [
  {
   "cell_type": "markdown",
   "metadata": {},
   "source": [
    "# NLP - Drill – Advanced Text Extraction"
   ]
  },
  {
   "cell_type": "code",
   "execution_count": 7,
   "metadata": {},
   "outputs": [],
   "source": [
    "import numpy as np\n",
    "import pandas as pd\n",
    "import scipy\n",
    "import matplotlib.pyplot as plt\n",
    "import seaborn as sns\n",
    "%matplotlib inline\n",
    "import re\n",
    "from sklearn.feature_extraction.text import TfidfVectorizer\n",
    "import nltk"
   ]
  },
  {
   "cell_type": "markdown",
   "metadata": {},
   "source": [
    "### Comparing LSA, LDA, and NNMF\n",
    "\n",
    "Now that you've been introduced to the logic behind these three topic extraction methods, we're going to try them out on the Emma corpus. We'll be looking at interpretability, speed, and consistency across methods. The goal is to identify common themes in Emma on a per-paragraph basis. We won't be using pLSA as sklearn does not support it.\n",
    "\n",
    "To do this, we will:\n",
    "\n",
    "1. Parse and process the data into a tf-idf matrix.\n",
    "2. Fit LSA, LDA, and NNMF models with 5 topics each.\n",
    "3. Extract the words that best describe each topic.\n",
    "4. Examine the topic relationships for the words 'marriage', 'love', and 'Emma.'\n",
    "\n",
    "### Generating the tfidf matrix"
   ]
  },
  {
   "cell_type": "code",
   "execution_count": 84,
   "metadata": {},
   "outputs": [],
   "source": [
    "# Importing the data\n",
    "\n",
    "f = open('61435.txt', 'r')\n",
    "content = f.read()\n",
    "\n",
    "# Converting from string to list\n",
    "\n",
    "content_list = content.split(\"\\n\")\n",
    "content_paras = list(content_list)\n"
   ]
  },
  {
   "cell_type": "code",
   "execution_count": 57,
   "metadata": {},
   "outputs": [],
   "source": [
    "# Creating the tf-idf matrix.\n",
    "\n",
    "vectorizer = TfidfVectorizer(stop_words='english')\n",
    "content_paras_tfidf=vectorizer.fit_transform(content_paras)\n",
    "\n",
    "# Getting the word list.\n",
    "terms = vectorizer.get_feature_names()\n",
    "\n",
    "# Number of topics.\n",
    "ntopics=5\n",
    "\n",
    "# In addition to creating the tfidf matrix, there are two convenience functions that will help keep the \n",
    "# code tidy when comparing models. The first provides a list of the words that are paired with each topic. \n",
    "# The second gives us the best words for each topic so we can compare across methods.\n",
    "\n",
    "# Linking words to topics\n",
    "def word_topic(tfidf,solution, wordlist):\n",
    "    \n",
    "    # Loading scores for each word on each topic/component.\n",
    "    words_by_topic=tfidf.T * solution\n",
    "\n",
    "    # Linking the loadings to the words in an easy-to-read way.\n",
    "    components=pd.DataFrame(words_by_topic,index=wordlist)\n",
    "    \n",
    "    return components\n",
    "\n",
    "# Extracts the top N words and their loadings for each topic.\n",
    "def top_words(components, n_top_words):\n",
    "    n_topics = range(components.shape[1])\n",
    "    index= np.repeat(n_topics, n_top_words, axis=0)\n",
    "    topwords=pd.Series(index=index)\n",
    "    for column in range(components.shape[1]):\n",
    "        # Sort the column so that highest loadings are at the top.\n",
    "        sortedwords=components.iloc[:,column].sort_values(ascending=False)\n",
    "        # Choose the N highest loadings.\n",
    "        chosen=sortedwords[:n_top_words]\n",
    "        # Combine loading and index into a string.\n",
    "        chosenlist=chosen.index +\" \"+round(chosen,2).map(str) \n",
    "        topwords.loc[column]=chosenlist\n",
    "    return(topwords)\n",
    "\n",
    "# Number of words to look at for each topic.\n",
    "n_top_words = 10"
   ]
  },
  {
   "cell_type": "markdown",
   "metadata": {},
   "source": [
    "### Fitting the three topic extraction models"
   ]
  },
  {
   "cell_type": "code",
   "execution_count": 70,
   "metadata": {},
   "outputs": [],
   "source": [
    "# LSA \n",
    "\n",
    "from sklearn.decomposition import TruncatedSVD\n",
    "from sklearn.pipeline import make_pipeline\n",
    "from sklearn.preprocessing import Normalizer\n",
    "\n",
    "svd= TruncatedSVD(ntopics)\n",
    "lsa = make_pipeline(svd, Normalizer(copy=False))\n",
    "content_lsa = lsa.fit_transform(content_paras_tfidf)\n",
    "\n",
    "components_lsa = word_topic(content_paras_tfidf, content_lsa, terms)\n",
    "\n",
    "topwords=pd.DataFrame()\n",
    "topwords['LSA']=top_words(components_lsa, n_top_words)"
   ]
  },
  {
   "cell_type": "code",
   "execution_count": 71,
   "metadata": {},
   "outputs": [
    {
     "name": "stderr",
     "output_type": "stream",
     "text": [
      "C:\\Users\\femis\\Anaconda3\\lib\\site-packages\\sklearn\\decomposition\\online_lda.py:314: DeprecationWarning: n_topics has been renamed to n_components in version 0.19 and will be removed in 0.21\n",
      "  DeprecationWarning)\n"
     ]
    }
   ],
   "source": [
    "# LDA\n",
    "\n",
    "\n",
    "from sklearn.decomposition import LatentDirichletAllocation as LDA\n",
    "\n",
    "lda = LDA(n_topics=ntopics, \n",
    "          doc_topic_prior=None, # Prior = 1/n_documents\n",
    "          topic_word_prior=1/ntopics,\n",
    "          learning_decay=0.7, # Convergence rate.\n",
    "          learning_offset=10.0, # Causes earlier iterations to have less influence on the learning\n",
    "          max_iter=10, # when to stop even if the model is not converging (to prevent running forever)\n",
    "          evaluate_every=-1, # Do not evaluate perplexity, as it slows training time.\n",
    "          mean_change_tol=0.001, # Stop updating the document topic distribution in the E-step when mean change is < tol\n",
    "          max_doc_update_iter=100, # When to stop updating the document topic distribution in the E-step even if tol is not reached\n",
    "          n_jobs=-1, # Use all available CPUs to speed up processing time.\n",
    "          verbose=0, # amount of output to give while iterating\n",
    "          random_state=0\n",
    "         )\n",
    "\n",
    "content_lda = lda.fit_transform(content_paras_tfidf) \n",
    "\n",
    "components_lda = word_topic(content_paras_tfidf, content_lda, terms)\n",
    "\n",
    "topwords['LDA']=top_words(components_lda, n_top_words)"
   ]
  },
  {
   "cell_type": "code",
   "execution_count": 72,
   "metadata": {},
   "outputs": [],
   "source": [
    "# NNMF\n",
    "\n",
    "from sklearn.decomposition import NMF\n",
    "\n",
    "nmf = NMF(alpha=0.0, \n",
    "          init='nndsvdar', # how starting value are calculated\n",
    "          l1_ratio=0.0, # Sets whether regularization is L2 (0), L1 (1), or a combination (values between 0 and 1)\n",
    "          max_iter=200, # when to stop even if the model is not converging (to prevent running forever)\n",
    "          n_components=ntopics, \n",
    "          random_state=0, \n",
    "          solver='cd', # Use Coordinate Descent to solve\n",
    "          tol=0.0001, # model will stop if tfidf-WH <= tol\n",
    "          verbose=0 # amount of output to give while iterating\n",
    "         )\n",
    "content_nmf = nmf.fit_transform(content_paras_tfidf) \n",
    "\n",
    "components_nmf = word_topic(content_paras_tfidf, content_nmf, terms)\n",
    "\n",
    "topwords['NNMF']=top_words(components_nmf, n_top_words)"
   ]
  },
  {
   "cell_type": "code",
   "execution_count": 77,
   "metadata": {},
   "outputs": [
    {
     "data": {
      "text/html": [
       "<div>\n",
       "<style scoped>\n",
       "    .dataframe tbody tr th:only-of-type {\n",
       "        vertical-align: middle;\n",
       "    }\n",
       "\n",
       "    .dataframe tbody tr th {\n",
       "        vertical-align: top;\n",
       "    }\n",
       "\n",
       "    .dataframe thead th {\n",
       "        text-align: right;\n",
       "    }\n",
       "</style>\n",
       "<table border=\"1\" class=\"dataframe\">\n",
       "  <thead>\n",
       "    <tr style=\"text-align: right;\">\n",
       "      <th></th>\n",
       "      <th>LSA</th>\n",
       "      <th>LDA</th>\n",
       "      <th>NNMF</th>\n",
       "    </tr>\n",
       "  </thead>\n",
       "  <tbody>\n",
       "    <tr>\n",
       "      <th>0</th>\n",
       "      <td>planet 13.6</td>\n",
       "      <td>planet 5.39</td>\n",
       "      <td>surface 2.87</td>\n",
       "    </tr>\n",
       "    <tr>\n",
       "      <th>0</th>\n",
       "      <td>earth 11.69</td>\n",
       "      <td>years 4.73</td>\n",
       "      <td>degrees 0.83</td>\n",
       "    </tr>\n",
       "    <tr>\n",
       "      <th>0</th>\n",
       "      <td>moon 11.04</td>\n",
       "      <td>kilometers 4.68</td>\n",
       "      <td>temperature 0.45</td>\n",
       "    </tr>\n",
       "    <tr>\n",
       "      <th>0</th>\n",
       "      <td>spacecraft 9.17</td>\n",
       "      <td>miles 4.63</td>\n",
       "      <td>celsius 0.43</td>\n",
       "    </tr>\n",
       "    <tr>\n",
       "      <th>0</th>\n",
       "      <td>atmosphere 8.83</td>\n",
       "      <td>solar 3.69</td>\n",
       "      <td>planet 0.38</td>\n",
       "    </tr>\n",
       "  </tbody>\n",
       "</table>\n",
       "</div>"
      ],
      "text/plain": [
       "               LSA              LDA              NNMF\n",
       "0      planet 13.6      planet 5.39      surface 2.87\n",
       "0      earth 11.69       years 4.73      degrees 0.83\n",
       "0       moon 11.04  kilometers 4.68  temperature 0.45\n",
       "0  spacecraft 9.17       miles 4.63      celsius 0.43\n",
       "0  atmosphere 8.83       solar 3.69       planet 0.38"
      ]
     },
     "execution_count": 77,
     "metadata": {},
     "output_type": "execute_result"
    }
   ],
   "source": [
    "topwords.head()"
   ]
  },
  {
   "cell_type": "markdown",
   "metadata": {},
   "source": [
    "### Inspecting the topics\n",
    "\n",
    "For each topic, we list the ten most-relevant words according to each method:"
   ]
  },
  {
   "cell_type": "code",
   "execution_count": 74,
   "metadata": {},
   "outputs": [
    {
     "name": "stdout",
     "output_type": "stream",
     "text": [
      "Topic 0:\n",
      "               LSA              LDA              NNMF\n",
      "0      planet 13.6      planet 5.39      surface 2.87\n",
      "0      earth 11.69       years 4.73      degrees 0.83\n",
      "0       moon 11.04  kilometers 4.68  temperature 0.45\n",
      "0  spacecraft 9.17       miles 4.63      celsius 0.43\n",
      "0  atmosphere 8.83       solar 3.69       planet 0.38\n",
      "0       solar 8.08       space 3.31          ice 0.36\n",
      "0       venus 7.69      surface 3.1   fahrenheit 0.32\n",
      "0     jupiter 7.68      uranus 3.06        venus 0.32\n",
      "0      saturn 7.37        moon 3.02   atmosphere 0.31\n",
      "0       years 7.22  atmosphere 2.88         moon 0.28\n",
      "Topic 1:\n",
      "               LSA             LDA            NNMF\n",
      "1      solar 14.83       earth 5.4      solar 4.49\n",
      "1    planets 10.32       moon 4.64    planets 2.63\n",
      "1   asteroids 4.23      solar 4.04        sun 0.75\n",
      "1       comets 3.7    planets 3.18    jupiter 0.68\n",
      "1      saturn 3.64     planet 3.08  asteroids 0.57\n",
      "1         sun 3.44    degrees 2.93     comets 0.57\n",
      "1     jupiter 3.38  spacecraft 2.9    mercury 0.53\n",
      "1      bodies 2.86       years 2.5    largest 0.52\n",
      "1       outer 2.55    voyager 2.41       outer 0.5\n",
      "1  spacecraft 2.38   asteroids 2.3     saturn 0.47\n",
      "Topic 2:\n",
      "               LSA             LDA             NNMF\n",
      "2      earth 14.56  spacecraft 5.9       earth 5.27\n",
      "2         sun 3.24     planet 5.84  atmosphere 1.06\n",
      "2  atmosphere 3.12     surface 5.4        days 0.86\n",
      "2        days 2.98      earth 5.31         sun 0.77\n",
      "2        like 2.91      venus 5.19       venus 0.61\n",
      "2       years 2.59      solar 4.28        like 0.59\n",
      "2     billion 2.04    mercury 3.96     jupiter 0.55\n",
      "2     weather 1.74    mariner 3.86        years 0.5\n",
      "2     jupiter 1.69    planets 3.65      mercury 0.5\n",
      "2   particles 1.64       past 3.19        mars 0.42\n",
      "Topic 3:\n",
      "              LSA              LDA             NNMF\n",
      "3    surface 8.26  atmosphere 4.52  spacecraft 4.09\n",
      "3     planet 8.12  spacecraft 4.11       venus 1.58\n",
      "3       solar 6.6        solar 4.1        nasa 1.17\n",
      "3    degrees 4.51       planet 4.1     mariner 1.07\n",
      "3        ice 3.59       earth 3.96     pioneer 0.85\n",
      "3    planets 2.86     surface 3.88    launched 0.84\n",
      "3      water 2.49        mars 3.29   automated 0.74\n",
      "3     uranus 2.25       comet 3.08          10 0.74\n",
      "3    celsius 2.05      saturn 2.85     orbiter 0.69\n",
      "3  fahrenheit 2.0       venus 2.71        mars 0.57\n",
      "Topic 4:\n",
      "                LSA              LDA             NNMF\n",
      "4      surface 8.93         sun 6.79      planet 5.03\n",
      "4        venus 4.98     jupiter 4.86       miles 1.37\n",
      "4      degrees 4.49       moons 4.53  kilometers 1.29\n",
      "4        solar 4.37  spacecraft 4.44  atmosphere 1.04\n",
      "4        space 3.03      planet 4.25     neptune 1.04\n",
      "4         mars 3.01       earth 4.24       orbit 0.89\n",
      "4       viking 2.72       solar 3.65        moons 0.7\n",
      "4      celsius 2.55       water 3.35     surface 0.65\n",
      "4   fahrenheit 2.55         ice 3.14       field 0.59\n",
      "4  temperature 2.26     planets 2.88       years 0.56\n"
     ]
    }
   ],
   "source": [
    "for topic in range(ntopics):\n",
    "    print('Topic {}:'.format(topic))\n",
    "    print(topwords.loc[topic])\n",
    "    "
   ]
  },
  {
   "cell_type": "markdown",
   "metadata": {},
   "source": [
    "A number of things are clear. First, some topics are shared, though the order of topics varies- the 'oh' topic is first for LSA and NNMF, but second for LDA. And second, the content of some of the topics varies considerably across methods. This is a clear argument for using multiple methods when exploring topics.\n",
    "\n",
    "### Sparsity\n",
    "\n",
    "Now let's examine sparsity by looking at the distributions of loadings for the words 'planet','earth','moon','solar' across the methods:"
   ]
  },
  {
   "cell_type": "code",
   "execution_count": 76,
   "metadata": {},
   "outputs": [
    {
     "data": {
      "image/png": "[encoded data removed]",
      "text/plain": [
       "<Figure size 432x288 with 1 Axes>"
      ]
     },
     "metadata": {},
     "output_type": "display_data"
    },
    {
     "data": {
      "image/png": "[encoded data removed]",
      "text/plain": [
       "<Figure size 432x288 with 1 Axes>"
      ]
     },
     "metadata": {},
     "output_type": "display_data"
    },
    {
     "data": {
      "image/png": "[encoded data removed]",
      "text/plain": [
       "<Figure size 432x288 with 1 Axes>"
      ]
     },
     "metadata": {},
     "output_type": "display_data"
    },
    {
     "data": {
      "image/png": "[encoded data removed]",
      "text/plain": [
       "<Figure size 432x288 with 1 Axes>"
      ]
     },
     "metadata": {},
     "output_type": "display_data"
    }
   ],
   "source": [
    "# The words to look at.\n",
    "targetwords=['planet','earth','moon','solar']\n",
    "\n",
    "# Storing the loadings.\n",
    "wordloadings=pd.DataFrame(columns=targetwords)\n",
    "\n",
    "# For each word, extracting and string the loadings for each method.\n",
    "for word in targetwords:\n",
    "    loadings=components_lsa.loc[word].append(\n",
    "        components_lda.loc[word]).append(\n",
    "            components_nmf.loc[word])\n",
    "    wordloadings[word]=loadings\n",
    "\n",
    "# Labeling the data by method and providing an ordering variable for graphing purposes. \n",
    "wordloadings['method']=np.repeat(['LSA','LDA','NNMF'], 5, axis=0)\n",
    "wordloadings['loading']=[0,1,2,3,4]*3\n",
    "\n",
    "sns.set(style=\"darkgrid\")\n",
    "\n",
    "for word in targetwords:\n",
    "    sns.barplot(x=\"method\", y=word, hue=\"loading\", data=wordloadings)\n",
    "    plt.title(word)\n",
    "    plt.ylabel(\"\")\n",
    "    plt.show()"
   ]
  },
  {
   "cell_type": "markdown",
   "metadata": {},
   "source": [
    "LSA is the method most likely to have high loadings on more than one topic for the same word. LDA tends to have one high loading and some lower loadings. Loadings for NNMF are lower all around, and the most sparse, with some of the topics having loadings of zero on each word."
   ]
  },
  {
   "cell_type": "code",
   "execution_count": null,
   "metadata": {},
   "outputs": [],
   "source": []
  }
 ],
 "metadata": {
  "kernelspec": {
   "display_name": "Python 3",
   "language": "python",
   "name": "python3"
  },
  "language_info": {
   "codemirror_mode": {
    "name": "ipython",
    "version": 3
   },
   "file_extension": ".py",
   "mimetype": "text/x-python",
   "name": "python",
   "nbconvert_exporter": "python",
   "pygments_lexer": "ipython3",
   "version": "3.7.1"
  }
 },
 "nbformat": 4,
 "nbformat_minor": 2
}
