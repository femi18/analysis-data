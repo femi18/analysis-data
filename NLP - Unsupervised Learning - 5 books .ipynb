{
 "cells": [
  {
   "cell_type": "markdown",
   "metadata": {},
   "source": [
    "# NLP - Unsupervised Learning - 5 Books"
   ]
  },
  {
   "cell_type": "code",
   "execution_count": 2,
   "metadata": {},
   "outputs": [
    {
     "name": "stderr",
     "output_type": "stream",
     "text": [
      "[nltk_data] Downloading package gutenberg to\n",
      "[nltk_data]     C:\\Users\\femis\\AppData\\Roaming\\nltk_data...\n",
      "[nltk_data]   Package gutenberg is already up-to-date!\n"
     ]
    },
    {
     "name": "stdout",
     "output_type": "stream",
     "text": [
      "Requirement already satisfied: en_core_web_sm==2.1.0 from https://github.com/explosion/spacy-models/releases/download/en_core_web_sm-2.1.0/en_core_web_sm-2.1.0.tar.gz#egg=en_core_web_sm==2.1.0 in c:\\users\\femis\\anaconda3\\lib\\site-packages (2.1.0)\n",
      "[+] Download and installation successful\n",
      "You can now load the model via spacy.load('en_core_web_sm')\n",
      "symbolic link created for C:\\Users\\femis\\Anaconda3\\lib\\site-packages\\spacy\\data\\en <<===>> C:\\Users\\femis\\Anaconda3\\lib\\site-packages\\en_core_web_sm\n",
      "[+] Linking successful\n",
      "C:\\Users\\femis\\Anaconda3\\lib\\site-packages\\en_core_web_sm -->\n",
      "C:\\Users\\femis\\Anaconda3\\lib\\site-packages\\spacy\\data\\en\n",
      "You can now load the model via spacy.load('en')\n"
     ]
    }
   ],
   "source": [
    "%matplotlib inline\n",
    "import numpy as np\n",
    "import pandas as pd\n",
    "import scipy\n",
    "import sklearn\n",
    "import spacy\n",
    "import matplotlib.pyplot as plt\n",
    "import seaborn as sns\n",
    "import re\n",
    "from nltk.corpus import gutenberg, stopwords\n",
    "from collections import Counter\n",
    "import nltk\n",
    "\n",
    "nltk.download('gutenberg')\n",
    "!python -m spacy download en"
   ]
  },
  {
   "cell_type": "code",
   "execution_count": 142,
   "metadata": {},
   "outputs": [
    {
     "name": "stdout",
     "output_type": "stream",
     "text": [
      "['austen-emma.txt', 'austen-persuasion.txt', 'austen-sense.txt', 'bible-kjv.txt', 'blake-poems.txt', 'bryant-stories.txt', 'burgess-busterbrown.txt', 'carroll-alice.txt', 'chesterton-ball.txt', 'chesterton-brown.txt', 'chesterton-thursday.txt', 'edgeworth-parents.txt', 'melville-moby_dick.txt', 'milton-paradise.txt', 'shakespeare-caesar.txt', 'shakespeare-hamlet.txt', 'shakespeare-macbeth.txt', 'whitman-leaves.txt']\n"
     ]
    }
   ],
   "source": [
    "print(gutenberg.fileids())"
   ]
  },
  {
   "cell_type": "markdown",
   "metadata": {},
   "source": [
    "For this modeling we would use Poems by Blake and Stories by Bryant"
   ]
  },
  {
   "cell_type": "code",
   "execution_count": 17,
   "metadata": {},
   "outputs": [],
   "source": [
    "# Utility function for standard text cleaning.\n",
    "def text_cleaner(text):\n",
    "    # Visual inspection identifies a form of punctuation spaCy does not\n",
    "    # recognize: the double dash '--'.  Better get rid of it now!\n",
    "    text = re.sub(r'--',' ',text)\n",
    "    text = re.sub(\"[\\[].*?[\\]]\", \"\", text)\n",
    "    text = ' '.join(text.split())\n",
    "    return text\n",
    "    \n",
    "# Load and clean the data.\n",
    "poems = gutenberg.raw('blake-poems.txt')\n",
    "stories = gutenberg.raw('bryant-stories.txt')\n",
    "sense = gutenberg.raw('austen-sense.txt')\n",
    "busterbrown = gutenberg.raw('burgess-busterbrown.txt')\n",
    "ball = gutenberg.raw('chesterton-ball.txt')\n"
   ]
  },
  {
   "cell_type": "code",
   "execution_count": 18,
   "metadata": {},
   "outputs": [],
   "source": [
    "# The Chapter indicator is idiosyncratic\n",
    "poems = re.sub(r'Chapter \\d+', '', poems)\n",
    "stories = re.sub(r'CHAPTER .*', '', stories)\n",
    "sense = re.sub(r'CHAPTER .*', '', sense)\n",
    "busterbrown = re.sub(r'CHAPTER .*', '', busterbrown)\n",
    "ball = re.sub(r'CHAPTER .*', '', ball)\n",
    "    \n",
    "poems = text_cleaner(poems[:int(len(poems)/10)])\n",
    "stories = text_cleaner(stories[:int(len(stories)/10)])\n",
    "sense = text_cleaner(sense[:int(len(sense)/10)])\n",
    "busterbrown = text_cleaner(busterbrown[:int(len(busterbrown)/10)])\n",
    "ball = text_cleaner(ball[:int(len(ball)/10)])"
   ]
  },
  {
   "cell_type": "code",
   "execution_count": 19,
   "metadata": {},
   "outputs": [
    {
     "name": "stdout",
     "output_type": "stream",
     "text": [
      "Cleaned text:\n",
      " SONGS OF INNOCENCE AND OF EXPERIENCE and THE BOOK of THEL SONGS OF INNOCENCE INTRODUCTION Piping dow\n",
      "Cleaned text:\n",
      " TWO LITTLE RIDDLES IN RHYME There's a garden that I ken, Full of little gentlemen; Little caps of bl\n",
      "Cleaned text:\n",
      " The family of Dashwood had long been settled in Sussex. Their estate was large, and their residence \n",
      "Cleaned text:\n",
      " I BUSTER BEAR GOES FISHING Buster Bear yawned as he lay on his comfortable bed of leaves and watched\n",
      "Cleaned text:\n",
      " I. A DISCUSSION SOMEWHAT IN THE AIR The flying ship of Professor Lucifer sang through the skies like\n"
     ]
    }
   ],
   "source": [
    "print('Cleaned text:\\n', poems[0:100])\n",
    "print('Cleaned text:\\n', stories[0:100])\n",
    "print('Cleaned text:\\n', sense[0:100])\n",
    "print('Cleaned text:\\n', busterbrown[0:100])\n",
    "print('Cleaned text:\\n', ball[0:100])"
   ]
  },
  {
   "cell_type": "code",
   "execution_count": 20,
   "metadata": {},
   "outputs": [],
   "source": [
    "# Parse the cleaned novels. This can take a bit.\n",
    "nlp = spacy.load('en')\n",
    "poems_doc = nlp(poems)\n",
    "stories_doc = nlp(stories)\n",
    "sense_doc = nlp(sense)\n",
    "busterbrown_doc = nlp(busterbrown)\n",
    "ball_doc = nlp(ball)"
   ]
  },
  {
   "cell_type": "code",
   "execution_count": 22,
   "metadata": {},
   "outputs": [
    {
     "data": {
      "text/html": [
       "<div>\n",
       "<style scoped>\n",
       "    .dataframe tbody tr th:only-of-type {\n",
       "        vertical-align: middle;\n",
       "    }\n",
       "\n",
       "    .dataframe tbody tr th {\n",
       "        vertical-align: top;\n",
       "    }\n",
       "\n",
       "    .dataframe thead th {\n",
       "        text-align: right;\n",
       "    }\n",
       "</style>\n",
       "<table border=\"1\" class=\"dataframe\">\n",
       "  <thead>\n",
       "    <tr style=\"text-align: right;\">\n",
       "      <th></th>\n",
       "      <th>0</th>\n",
       "      <th>1</th>\n",
       "    </tr>\n",
       "  </thead>\n",
       "  <tbody>\n",
       "    <tr>\n",
       "      <th>0</th>\n",
       "      <td>(SONGS, OF, INNOCENCE, AND, OF, EXPERIENCE, an...</td>\n",
       "      <td>Blake</td>\n",
       "    </tr>\n",
       "    <tr>\n",
       "      <th>1</th>\n",
       "      <td>(INNOCENCE, INTRODUCTION, Piping, down, the, v...</td>\n",
       "      <td>Blake</td>\n",
       "    </tr>\n",
       "    <tr>\n",
       "      <th>2</th>\n",
       "      <td>(wild)</td>\n",
       "      <td>Blake</td>\n",
       "    </tr>\n",
       "    <tr>\n",
       "      <th>3</th>\n",
       "      <td>(,, Piping, songs, of, pleasant, glee, ,, On, ...</td>\n",
       "      <td>Blake</td>\n",
       "    </tr>\n",
       "    <tr>\n",
       "      <th>4</th>\n",
       "      <td>(\", Pipe, a, song, about, a, Lamb, !, \")</td>\n",
       "      <td>Blake</td>\n",
       "    </tr>\n",
       "    <tr>\n",
       "      <th>5</th>\n",
       "      <td>(So, I, piped, with, merry, cheer, .)</td>\n",
       "      <td>Blake</td>\n",
       "    </tr>\n",
       "    <tr>\n",
       "      <th>6</th>\n",
       "      <td>(\")</td>\n",
       "      <td>Blake</td>\n",
       "    </tr>\n",
       "    <tr>\n",
       "      <th>7</th>\n",
       "      <td>(Piper, ,, pipe, that, song, again, ;)</td>\n",
       "      <td>Blake</td>\n",
       "    </tr>\n",
       "    <tr>\n",
       "      <th>8</th>\n",
       "      <td>(\", So, I, piped, :, he, wept, to, hear, .)</td>\n",
       "      <td>Blake</td>\n",
       "    </tr>\n",
       "    <tr>\n",
       "      <th>9</th>\n",
       "      <td>(\")</td>\n",
       "      <td>Blake</td>\n",
       "    </tr>\n",
       "  </tbody>\n",
       "</table>\n",
       "</div>"
      ],
      "text/plain": [
       "                                                   0      1\n",
       "0  (SONGS, OF, INNOCENCE, AND, OF, EXPERIENCE, an...  Blake\n",
       "1  (INNOCENCE, INTRODUCTION, Piping, down, the, v...  Blake\n",
       "2                                             (wild)  Blake\n",
       "3  (,, Piping, songs, of, pleasant, glee, ,, On, ...  Blake\n",
       "4           (\", Pipe, a, song, about, a, Lamb, !, \")  Blake\n",
       "5              (So, I, piped, with, merry, cheer, .)  Blake\n",
       "6                                                (\")  Blake\n",
       "7             (Piper, ,, pipe, that, song, again, ;)  Blake\n",
       "8        (\", So, I, piped, :, he, wept, to, hear, .)  Blake\n",
       "9                                                (\")  Blake"
      ]
     },
     "execution_count": 22,
     "metadata": {},
     "output_type": "execute_result"
    }
   ],
   "source": [
    "# Group into sentences.\n",
    "poems_sents = [[sent, \"Blake\"] for sent in poems_doc.sents]\n",
    "stories_sents = [[sent, \"Bryant\"] for sent in stories_doc.sents]\n",
    "sense_sents = [[sent, \"austen\"] for sent in sense_doc.sents]\n",
    "busterbrown_sents = [[sent, \"burgess\"] for sent in busterbrown_doc.sents]\n",
    "ball_sents = [[sent, \"chesterton\"] for sent in ball_doc.sents]\n",
    "\n",
    "# Combine the sentences from the two novels into one data frame.\n",
    "sentences = pd.DataFrame(poems_sents + stories_sents +sense_sents + busterbrown_sents + ball_sents)\n",
    "sentences.head(10)"
   ]
  },
  {
   "cell_type": "markdown",
   "metadata": {},
   "source": [
    "### Bag of Words"
   ]
  },
  {
   "cell_type": "code",
   "execution_count": 23,
   "metadata": {},
   "outputs": [],
   "source": [
    "# Utility function to create a list of the 2000 most common words.\n",
    "def bag_of_words(text):\n",
    "    \n",
    "    # Filter out punctuation and stop words.\n",
    "    allwords = [token.lemma_\n",
    "                for token in text\n",
    "                if not token.is_punct\n",
    "                and not token.is_stop]\n",
    "    \n",
    "    # Return the most common words.\n",
    "    return [item[0] for item in Counter(allwords).most_common(2000)]\n",
    "    \n",
    "\n",
    "# Creates a data frame with features for each word in our common word set.\n",
    "# Each value is the count of the times the word appears in each sentence.\n",
    "def bow_features(sentences, common_words):\n",
    "    \n",
    "    # Scaffold the data frame and initialize counts to zero.\n",
    "    df = pd.DataFrame(columns=common_words)\n",
    "    df['text_sentence'] = sentences[0]\n",
    "    df['text_source'] = sentences[1]\n",
    "    df.loc[:, common_words] = 0\n",
    "    \n",
    "    # Process each row, counting the occurrence of words in each sentence.\n",
    "    for i, sentence in enumerate(df['text_sentence']):\n",
    "        \n",
    "        # Convert the sentence to lemmas, then filter out punctuation,\n",
    "        # stop words, and uncommon words.\n",
    "        words = [token.lemma_\n",
    "                 for token in sentence\n",
    "                 if (\n",
    "                     not token.is_punct\n",
    "                     and not token.is_stop\n",
    "                     and token.lemma_ in common_words\n",
    "                 )]\n",
    "        \n",
    "        # Populate the row with word counts.\n",
    "        for word in words:\n",
    "            df.loc[i, word] += 1\n",
    "        \n",
    "        # This counter is just to make sure the kernel didn't hang.\n",
    "        if i % 50 == 0:\n",
    "            print(\"Processing row {}\".format(i))\n",
    "            \n",
    "    return df\n",
    "\n",
    "# Set up the bags.\n",
    "poemswords = bag_of_words(poems_doc)\n",
    "storieswords = bag_of_words(stories_doc)\n",
    "sensewords = bag_of_words(sense_doc)\n",
    "busterbrownwords = bag_of_words(busterbrown_doc)\n",
    "ballwords = bag_of_words(ball_doc)\n",
    "\n",
    "# Combine bags to create a set of unique words.\n",
    "common_words = set(poemswords + storieswords + sensewords + busterbrownwords + ballwords)"
   ]
  },
  {
   "cell_type": "code",
   "execution_count": 24,
   "metadata": {},
   "outputs": [
    {
     "name": "stdout",
     "output_type": "stream",
     "text": [
      "Processing row 0\n",
      "Processing row 50\n",
      "Processing row 100\n",
      "Processing row 150\n",
      "Processing row 200\n",
      "Processing row 250\n",
      "Processing row 300\n",
      "Processing row 350\n",
      "Processing row 400\n",
      "Processing row 450\n",
      "Processing row 500\n",
      "Processing row 550\n",
      "Processing row 600\n",
      "Processing row 650\n",
      "Processing row 700\n",
      "Processing row 750\n",
      "Processing row 800\n",
      "Processing row 850\n",
      "Processing row 900\n",
      "Processing row 950\n",
      "Processing row 1000\n",
      "Processing row 1050\n",
      "Processing row 1100\n",
      "Processing row 1150\n",
      "Processing row 1200\n",
      "Processing row 1250\n",
      "Processing row 1300\n",
      "Processing row 1350\n",
      "Processing row 1400\n",
      "Processing row 1450\n",
      "Processing row 1500\n",
      "Processing row 1550\n",
      "Processing row 1600\n",
      "Processing row 1650\n",
      "Processing row 1700\n"
     ]
    },
    {
     "data": {
      "text/html": [
       "<div>\n",
       "<style scoped>\n",
       "    .dataframe tbody tr th:only-of-type {\n",
       "        vertical-align: middle;\n",
       "    }\n",
       "\n",
       "    .dataframe tbody tr th {\n",
       "        vertical-align: top;\n",
       "    }\n",
       "\n",
       "    .dataframe thead th {\n",
       "        text-align: right;\n",
       "    }\n",
       "</style>\n",
       "<table border=\"1\" class=\"dataframe\">\n",
       "  <thead>\n",
       "    <tr style=\"text-align: right;\">\n",
       "      <th></th>\n",
       "      <th>annuity</th>\n",
       "      <th>interminable</th>\n",
       "      <th>clearly</th>\n",
       "      <th>bush</th>\n",
       "      <th>sour</th>\n",
       "      <th>feverish</th>\n",
       "      <th>coincidence</th>\n",
       "      <th>spring</th>\n",
       "      <th>inconvenient</th>\n",
       "      <th>humane</th>\n",
       "      <th>...</th>\n",
       "      <th>ape</th>\n",
       "      <th>insinuation</th>\n",
       "      <th>devolve</th>\n",
       "      <th>answer</th>\n",
       "      <th>advisable</th>\n",
       "      <th>parish</th>\n",
       "      <th>ready</th>\n",
       "      <th>crisis</th>\n",
       "      <th>text_sentence</th>\n",
       "      <th>text_source</th>\n",
       "    </tr>\n",
       "  </thead>\n",
       "  <tbody>\n",
       "    <tr>\n",
       "      <th>0</th>\n",
       "      <td>0</td>\n",
       "      <td>0</td>\n",
       "      <td>0</td>\n",
       "      <td>0</td>\n",
       "      <td>0</td>\n",
       "      <td>0</td>\n",
       "      <td>0</td>\n",
       "      <td>0</td>\n",
       "      <td>0</td>\n",
       "      <td>0</td>\n",
       "      <td>...</td>\n",
       "      <td>0</td>\n",
       "      <td>0</td>\n",
       "      <td>0</td>\n",
       "      <td>0</td>\n",
       "      <td>0</td>\n",
       "      <td>0</td>\n",
       "      <td>0</td>\n",
       "      <td>0</td>\n",
       "      <td>(SONGS, OF, INNOCENCE, AND, OF, EXPERIENCE, an...</td>\n",
       "      <td>Blake</td>\n",
       "    </tr>\n",
       "    <tr>\n",
       "      <th>1</th>\n",
       "      <td>0</td>\n",
       "      <td>0</td>\n",
       "      <td>0</td>\n",
       "      <td>0</td>\n",
       "      <td>0</td>\n",
       "      <td>0</td>\n",
       "      <td>0</td>\n",
       "      <td>0</td>\n",
       "      <td>0</td>\n",
       "      <td>0</td>\n",
       "      <td>...</td>\n",
       "      <td>0</td>\n",
       "      <td>0</td>\n",
       "      <td>0</td>\n",
       "      <td>0</td>\n",
       "      <td>0</td>\n",
       "      <td>0</td>\n",
       "      <td>0</td>\n",
       "      <td>0</td>\n",
       "      <td>(INNOCENCE, INTRODUCTION, Piping, down, the, v...</td>\n",
       "      <td>Blake</td>\n",
       "    </tr>\n",
       "    <tr>\n",
       "      <th>2</th>\n",
       "      <td>0</td>\n",
       "      <td>0</td>\n",
       "      <td>0</td>\n",
       "      <td>0</td>\n",
       "      <td>0</td>\n",
       "      <td>0</td>\n",
       "      <td>0</td>\n",
       "      <td>0</td>\n",
       "      <td>0</td>\n",
       "      <td>0</td>\n",
       "      <td>...</td>\n",
       "      <td>0</td>\n",
       "      <td>0</td>\n",
       "      <td>0</td>\n",
       "      <td>0</td>\n",
       "      <td>0</td>\n",
       "      <td>0</td>\n",
       "      <td>0</td>\n",
       "      <td>0</td>\n",
       "      <td>(wild)</td>\n",
       "      <td>Blake</td>\n",
       "    </tr>\n",
       "    <tr>\n",
       "      <th>3</th>\n",
       "      <td>0</td>\n",
       "      <td>0</td>\n",
       "      <td>0</td>\n",
       "      <td>0</td>\n",
       "      <td>0</td>\n",
       "      <td>0</td>\n",
       "      <td>0</td>\n",
       "      <td>0</td>\n",
       "      <td>0</td>\n",
       "      <td>0</td>\n",
       "      <td>...</td>\n",
       "      <td>0</td>\n",
       "      <td>0</td>\n",
       "      <td>0</td>\n",
       "      <td>0</td>\n",
       "      <td>0</td>\n",
       "      <td>0</td>\n",
       "      <td>0</td>\n",
       "      <td>0</td>\n",
       "      <td>(,, Piping, songs, of, pleasant, glee, ,, On, ...</td>\n",
       "      <td>Blake</td>\n",
       "    </tr>\n",
       "    <tr>\n",
       "      <th>4</th>\n",
       "      <td>0</td>\n",
       "      <td>0</td>\n",
       "      <td>0</td>\n",
       "      <td>0</td>\n",
       "      <td>0</td>\n",
       "      <td>0</td>\n",
       "      <td>0</td>\n",
       "      <td>0</td>\n",
       "      <td>0</td>\n",
       "      <td>0</td>\n",
       "      <td>...</td>\n",
       "      <td>0</td>\n",
       "      <td>0</td>\n",
       "      <td>0</td>\n",
       "      <td>0</td>\n",
       "      <td>0</td>\n",
       "      <td>0</td>\n",
       "      <td>0</td>\n",
       "      <td>0</td>\n",
       "      <td>(\", Pipe, a, song, about, a, Lamb, !, \")</td>\n",
       "      <td>Blake</td>\n",
       "    </tr>\n",
       "  </tbody>\n",
       "</table>\n",
       "<p>5 rows × 3014 columns</p>\n",
       "</div>"
      ],
      "text/plain": [
       "  annuity interminable clearly bush sour feverish coincidence spring  \\\n",
       "0       0            0       0    0    0        0           0      0   \n",
       "1       0            0       0    0    0        0           0      0   \n",
       "2       0            0       0    0    0        0           0      0   \n",
       "3       0            0       0    0    0        0           0      0   \n",
       "4       0            0       0    0    0        0           0      0   \n",
       "\n",
       "  inconvenient humane     ...     ape insinuation devolve answer advisable  \\\n",
       "0            0      0     ...       0           0       0      0         0   \n",
       "1            0      0     ...       0           0       0      0         0   \n",
       "2            0      0     ...       0           0       0      0         0   \n",
       "3            0      0     ...       0           0       0      0         0   \n",
       "4            0      0     ...       0           0       0      0         0   \n",
       "\n",
       "  parish ready crisis                                      text_sentence  \\\n",
       "0      0     0      0  (SONGS, OF, INNOCENCE, AND, OF, EXPERIENCE, an...   \n",
       "1      0     0      0  (INNOCENCE, INTRODUCTION, Piping, down, the, v...   \n",
       "2      0     0      0                                             (wild)   \n",
       "3      0     0      0  (,, Piping, songs, of, pleasant, glee, ,, On, ...   \n",
       "4      0     0      0           (\", Pipe, a, song, about, a, Lamb, !, \")   \n",
       "\n",
       "  text_source  \n",
       "0       Blake  \n",
       "1       Blake  \n",
       "2       Blake  \n",
       "3       Blake  \n",
       "4       Blake  \n",
       "\n",
       "[5 rows x 3014 columns]"
      ]
     },
     "execution_count": 24,
     "metadata": {},
     "output_type": "execute_result"
    }
   ],
   "source": [
    "# Create our data frame with features. This can take a while to run.\n",
    "word_counts = bow_features(sentences, common_words)\n",
    "word_counts.head()"
   ]
  },
  {
   "cell_type": "code",
   "execution_count": 38,
   "metadata": {},
   "outputs": [
    {
     "data": {
      "image/png": "[encoded data removed]",
      "text/plain": [
       "<Figure size 1080x648 with 1 Axes>"
      ]
     },
     "metadata": {
      "needs_background": "light"
     },
     "output_type": "display_data"
    }
   ],
   "source": [
    "word_counts['text_source'].value_counts().head(15).sort_values().plot(kind='barh', figsize=(15,9))\n",
    "plt.title('Number of Sentences')\n",
    "plt.ylabel('Author')\n",
    "plt.xlabel('# of Sentences')\n",
    "plt.show()"
   ]
  },
  {
   "cell_type": "code",
   "execution_count": null,
   "metadata": {},
   "outputs": [],
   "source": []
  },
  {
   "cell_type": "markdown",
   "metadata": {},
   "source": [
    "## BoW\n",
    "Now let's give the bag of words features a whirl by trying a random forest.\n",
    "\n",
    "### Random Forest"
   ]
  },
  {
   "cell_type": "code",
   "execution_count": 54,
   "metadata": {},
   "outputs": [],
   "source": [
    "from sklearn import ensemble\n",
    "from sklearn.model_selection import train_test_split\n",
    "Y = word_counts['text_source']\n",
    "X = np.array(word_counts.drop(['text_sentence','text_source'], 1))\n",
    "\n",
    "X_train, X_test, y_train, y_test = train_test_split(X, \n",
    "                                                    Y,\n",
    "                                                    test_size=0.25,\n",
    "                                                    random_state=0)"
   ]
  },
  {
   "cell_type": "code",
   "execution_count": 55,
   "metadata": {},
   "outputs": [
    {
     "name": "stderr",
     "output_type": "stream",
     "text": [
      "C:\\Users\\femis\\Anaconda3\\lib\\site-packages\\sklearn\\ensemble\\forest.py:246: FutureWarning: The default value of n_estimators will change from 10 in version 0.20 to 100 in 0.22.\n",
      "  \"10 in version 0.20 to 100 in 0.22.\", FutureWarning)\n"
     ]
    },
    {
     "name": "stdout",
     "output_type": "stream",
     "text": [
      "Training set score: 0.8860265417642467\n",
      "\n",
      "Test set score: 0.6495327102803738\n"
     ]
    }
   ],
   "source": [
    "rfc = ensemble.RandomForestClassifier()\n",
    "\n",
    "train = rfc.fit(X_train, y_train)\n",
    "\n",
    "print('Training set score:', rfc.score(X_train, y_train))\n",
    "print('\\nTest set score:', rfc.score(X_test, y_test))"
   ]
  },
  {
   "cell_type": "markdown",
   "metadata": {},
   "source": [
    "###  Logistic Regression\n",
    "Based on the scores you can tell there is some overfitting going on.\n",
    "Lets try using Logistic Regression"
   ]
  },
  {
   "cell_type": "code",
   "execution_count": 52,
   "metadata": {},
   "outputs": [
    {
     "name": "stderr",
     "output_type": "stream",
     "text": [
      "C:\\Users\\femis\\Anaconda3\\lib\\site-packages\\sklearn\\linear_model\\logistic.py:433: FutureWarning: Default solver will be changed to 'lbfgs' in 0.22. Specify a solver to silence this warning.\n",
      "  FutureWarning)\n",
      "C:\\Users\\femis\\Anaconda3\\lib\\site-packages\\sklearn\\linear_model\\logistic.py:460: FutureWarning: Default multi_class will be changed to 'auto' in 0.22. Specify the multi_class option to silence this warning.\n",
      "  \"this warning.\", FutureWarning)\n"
     ]
    },
    {
     "name": "stdout",
     "output_type": "stream",
     "text": [
      "(1281, 3012) (1281,)\n",
      "Training set score: 0.8477751756440282\n",
      "\n",
      "Test set score: 0.7009345794392523\n"
     ]
    }
   ],
   "source": [
    "from sklearn.linear_model import LogisticRegression\n",
    "\n",
    "lr = LogisticRegression(penalty='l2') # No need to specify l2 as it's the default.\n",
    "train = lr.fit(X_train, y_train)\n",
    "print(X_train.shape, y_train.shape)\n",
    "print('Training set score:', lr.score(X_train, y_train))\n",
    "print('\\nTest set score:', lr.score(X_test, y_test))"
   ]
  },
  {
   "cell_type": "markdown",
   "metadata": {},
   "source": [
    "Still getting the same results as the Random forest. Still overfitting.\n",
    "\n",
    "### Lets try with Gradient Boosting"
   ]
  },
  {
   "cell_type": "code",
   "execution_count": 53,
   "metadata": {},
   "outputs": [
    {
     "name": "stdout",
     "output_type": "stream",
     "text": [
      "Training set score: 0.8071818891491023\n",
      "\n",
      "Test set score: 0.6518691588785047\n"
     ]
    }
   ],
   "source": [
    "clf = ensemble.GradientBoostingClassifier()\n",
    "train = clf.fit(X_train, y_train)\n",
    "\n",
    "print('Training set score:', clf.score(X_train, y_train))\n",
    "print('\\nTest set score:', clf.score(X_test, y_test))"
   ]
  },
  {
   "cell_type": "markdown",
   "metadata": {},
   "source": [
    "Results seems a little better. nonetheless still overfitting\n",
    "\n"
   ]
  },
  {
   "cell_type": "markdown",
   "metadata": {},
   "source": [
    "## Term Frequency Inverse Document Frequency"
   ]
  },
  {
   "cell_type": "code",
   "execution_count": 58,
   "metadata": {},
   "outputs": [],
   "source": [
    "#reading in the data, this time in the form of paragraphs\n",
    "\n",
    "poems_ = gutenberg.paras('blake-poems.txt')\n",
    "stories_ = gutenberg.paras('bryant-stories.txt')\n",
    "sense_ = gutenberg.raw('austen-sense.txt')\n",
    "busterbrown_ = gutenberg.raw('burgess-busterbrown.txt')\n",
    "ball_ = gutenberg.raw('chesterton-ball.txt')\n"
   ]
  },
  {
   "cell_type": "code",
   "execution_count": 59,
   "metadata": {},
   "outputs": [
    {
     "data": {
      "text/plain": [
       "[[['[', 'Poems', 'by', 'William', 'Blake', '1789', ']']], [['SONGS', 'OF', 'INNOCENCE', 'AND', 'OF', 'EXPERIENCE', 'and', 'THE', 'BOOK', 'of', 'THEL']], ...]"
      ]
     },
     "execution_count": 59,
     "metadata": {},
     "output_type": "execute_result"
    }
   ],
   "source": [
    "# Combine the paragraphs from the two novels into one.\n",
    "books = (poems_ + stories_ + sense_ + busterbrown_ + ball_)\n",
    "books"
   ]
  },
  {
   "cell_type": "code",
   "execution_count": 60,
   "metadata": {},
   "outputs": [
    {
     "name": "stdout",
     "output_type": "stream",
     "text": [
      "['[ Poems by William Blake 1789 ]', 'SONGS OF INNOCENCE AND OF EXPERIENCE and THE BOOK of THEL', 'SONGS OF INNOCENCE', 'INTRODUCTION']\n"
     ]
    }
   ],
   "source": [
    "#processing\n",
    "books_paras=[]     \n",
    "for paragraph in books:\n",
    "    para=paragraph[0]\n",
    "    #removing the double-dash from all words\n",
    "    para=[re.sub(r'--','',word) for word in para]\n",
    "    #Forming each paragraph into a string and adding it to the list of strings.\n",
    "    books_paras.append(' '.join(para))\n",
    "\n",
    "print(books_paras[0:4])\n"
   ]
  },
  {
   "cell_type": "code",
   "execution_count": 61,
   "metadata": {},
   "outputs": [
    {
     "name": "stdout",
     "output_type": "stream",
     "text": [
      "Number of features: 1419\n",
      "Original sentence: i\n",
      "Tf_idf vector: {}\n"
     ]
    }
   ],
   "source": [
    "from sklearn.feature_extraction.text import TfidfVectorizer\n",
    "\n",
    "X_train, X_test = train_test_split(books_paras, test_size=0.4, random_state=0)\n",
    "\n",
    "vectorizer = TfidfVectorizer(max_df=0.5, # drop words that occur in more than half the paragraphs\n",
    "                             min_df=2, # only use words that appear at least twice\n",
    "                             stop_words='english', \n",
    "                             lowercase=True, #convert everything to lower case (since Alice in Wonderland has the HABIT of CAPITALIZING WORDS for EMPHASIS)\n",
    "                             use_idf=True,#we definitely want to use inverse document frequencies in our weighting\n",
    "                             norm=u'l2', #Applies a correction factor so that longer paragraphs and shorter paragraphs get treated equally\n",
    "                             smooth_idf=True #Adds 1 to all document frequencies, as if an extra document existed that used every word once.  Prevents divide-by-zero errors\n",
    "                            )\n",
    "\n",
    "\n",
    "#Applying the vectorizer\n",
    "books_paras_tfidf=vectorizer.fit_transform(books_paras)\n",
    "print(\"Number of features: %d\" % books_paras_tfidf.get_shape()[1])\n",
    "\n",
    "#splitting into training and test sets\n",
    "X_train_tfidf, X_test_tfidf= train_test_split(books_paras_tfidf, test_size=0.4, random_state=0)\n",
    "\n",
    "\n",
    "#Reshapes the vectorizer output into something people can read\n",
    "X_train_tfidf_csr = X_train_tfidf.tocsr()\n",
    "\n",
    "#number of paragraphs\n",
    "n = X_train_tfidf_csr.shape[0]\n",
    "#A list of dictionaries, one per paragraph\n",
    "tfidf_bypara = [{} for _ in range(0,n)]\n",
    "#List of features\n",
    "terms = vectorizer.get_feature_names()\n",
    "#for each paragraph, lists the feature words and their tf-idf scores\n",
    "for i, j in zip(*X_train_tfidf_csr.nonzero()):\n",
    "    tfidf_bypara[i][terms[j]] = X_train_tfidf_csr[i, j]\n",
    "\n",
    "#Keep in mind that the log base 2 of 1 is 0, so a tf-idf score of 0 indicates that the word was present once in that sentence.\n",
    "print('Original sentence:', X_train[5])\n",
    "print('Tf_idf vector:', tfidf_bypara[5])"
   ]
  },
  {
   "cell_type": "markdown",
   "metadata": {},
   "source": [
    "We now have the vectors, with one vector per paragraph. Lets do some dimension reduction. We'll use the Singular Value Decomposition (SVD) function from sklearn rather than PCA because we don't want to mean-center our variables (and thus lose sparsity)"
   ]
  },
  {
   "cell_type": "code",
   "execution_count": 62,
   "metadata": {},
   "outputs": [
    {
     "name": "stdout",
     "output_type": "stream",
     "text": [
      "Percent variance captured by all components: 53.118042397105\n",
      "Component 0:\n",
      "\" That gives me no idea at all ,\" said the little Jackal .                                                                                              0.771450\n",
      "THE LITTLE COTYLEDONS                                                                                                                                   0.730319\n",
      "\" It is too little , too little .\"                                                                                                                      0.730319\n",
      "\" Now , let us understand the situation ,\" said the little Jackal .                                                                                     0.725460\n",
      "\" Yes ,\" said the little Jackal .                                                                                                                       0.716924\n",
      "\" Oh , I do beg your pardon ,\" said the little Jackal .                                                                                                 0.716612\n",
      "\" Oh , no ,\" said the little girl , \" those are bullfrogs , croaking .\"                                                                                 0.715846\n",
      "\" It is on the other side of the river ,\" said the little Jackal ; \" but we can manage it nicely , if you will take me on your back and swim over .\"    0.711357\n",
      "\" No , it isn ' t ,\" said the little Red Man , \" I have it ; you will never see it again .\"                                                             0.700785\n",
      "\" But I don ' t altogether understand ,\" said the little Jackal .                                                                                       0.697012\n",
      "Name: 0, dtype: float64\n",
      "Component 1:\n",
      "\" _Who is there ? _ \" she said .                                                                  0.759434\n",
      "\" It would be a disgrace to you to have it said that one of your subjects dared disobey you !\"    0.752645\n",
      "\" Not I ,\" said the Goose .                                                                       0.723602\n",
      "\" Not I ,\" said the Goose .                                                                       0.723602\n",
      "\" It is Goliath , of Gath , champion of the Philistines ,\" said the soldiers about .              0.614070\n",
      "\" Anything that you will do , I will do ,\" said the tailor .                                      0.591777\n",
      "\" Indeed , no ,\" said father .                                                                    0.551283\n",
      "\" Do it yourself first ,\" said the giant .                                                        0.544077\n",
      "\" You will not ,\" said the giant .                                                                0.544077\n",
      "\" I will ,\" said the Duck .                                                                       0.542068\n",
      "Name: 1, dtype: float64\n",
      "Component 2:\n",
      "\" Oh , Jackal !\"                                           0.665120\n",
      "Oh !                                                       0.651070\n",
      "Oh !                                                       0.651070\n",
      "\" Oh !                                                     0.651070\n",
      "\" Oh , dear !\"                                             0.553900\n",
      "\" Oh , does it , indeed ?\"                                 0.549481\n",
      "\" Oh , please , dear snow , give me a cap , too !          0.526163\n",
      "\" Oh my children !                                         0.521995\n",
      "\" Oh , I do beg your pardon ,\" said the little Jackal .    0.513334\n",
      "\" Oh , no , no ; you are too little !\"                     0.505843\n",
      "Name: 2, dtype: float64\n",
      "Component 3:\n",
      "\" And I can run away from you , I can !                                                                                 0.804921\n",
      "\" And I can run away from you , I can !\"                                                                                0.804921\n",
      "\" And I can run away from you , I can !\"                                                                                0.804921\n",
      "\" And I can run away from you , I can !\"                                                                                0.804921\n",
      "They had run away so many times that they were quite thin and very tired , and they could not run so fast any more .    0.739767\n",
      "\" Run !                                                                                                                 0.640565\n",
      "\" Run !                                                                                                                 0.640565\n",
      "\" Run !                                                                                                                 0.640565\n",
      "\" I have run away from a little old woman ,                                                                             0.599713\n",
      "\" I have run away from a little old woman ,                                                                             0.599713\n",
      "Name: 3, dtype: float64\n",
      "Component 4:\n",
      "THE FROG KING                                                                                                                                                                                                      0.663795\n",
      "\" Are you not king ?\"                                                                                                                                                                                              0.663795\n",
      "As soon as the Frogs came to the surface to greet the new king , King Stork caught them in his long bill and gobbled them up .                                                                                     0.621260\n",
      "At the splash the Frogs were terribly frightened , and dived into their holes to hide from King Log .                                                                                                              0.616931\n",
      "But when King Saul died , the people chose David for their king , because there was no one so brave , so wise , or so faithful to God .                                                                            0.610963\n",
      "Soon they sent a third messenger to Jove , and begged that they might have a better king , a king who was worth while .                                                                                            0.573292\n",
      "And after the battle , David was taken to the king ' s tent , and made a captain over many men ; and he went no more to his father ' s house , to herd the sheep , but became a man , in the king ' s service .    0.559111\n",
      "The first time that he noticed that even a king could not always have his own way was on a day when he went hunting .                                                                                              0.524800\n",
      "The king on the throne looked at him .                                                                                                                                                                             0.499832\n",
      "\" The very thing for the King ' s dinner !\"                                                                                                                                                                        0.497620\n",
      "Name: 4, dtype: float64\n"
     ]
    }
   ],
   "source": [
    "from sklearn.decomposition import TruncatedSVD\n",
    "from sklearn.pipeline import make_pipeline\n",
    "from sklearn.preprocessing import Normalizer\n",
    "\n",
    "#Our SVD data reducer.  We are going to reduce the feature space from 1379 to 130.\n",
    "svd= TruncatedSVD(130)\n",
    "lsa = make_pipeline(svd, Normalizer(copy=False))\n",
    "# Run SVD on the training data, then project the training data.\n",
    "X_train_lsa = lsa.fit_transform(X_train_tfidf)\n",
    "\n",
    "variance_explained=svd.explained_variance_ratio_\n",
    "total_variance = variance_explained.sum()\n",
    "print(\"Percent variance captured by all components:\",total_variance*100)\n",
    "\n",
    "#Looking at what sorts of paragraphs our solution considers similar, for the first five identified topics\n",
    "paras_by_component=pd.DataFrame(X_train_lsa,index=X_train)\n",
    "for i in range(5):\n",
    "    print('Component {}:'.format(i))\n",
    "    print(paras_by_component.loc[:,i].sort_values(ascending=False)[0:10])\n",
    "\n"
   ]
  },
  {
   "cell_type": "markdown",
   "metadata": {},
   "source": [
    "From gazing at the most representative sample paragraphs, it appears that component 0 targets dialogue around the description 'little', component 1 seems to largely involve dialogue about what was said, component 2 is center around the word Run, component 3 involve dialogue about the character Brahmin , and component 4 involves referencing people as 'dear'."
   ]
  },
  {
   "cell_type": "code",
   "execution_count": null,
   "metadata": {},
   "outputs": [],
   "source": []
  }
 ],
 "metadata": {
  "kernelspec": {
   "display_name": "Python 3",
   "language": "python",
   "name": "python3"
  },
  "language_info": {
   "codemirror_mode": {
    "name": "ipython",
    "version": 3
   },
   "file_extension": ".py",
   "mimetype": "text/x-python",
   "name": "python",
   "nbconvert_exporter": "python",
   "pygments_lexer": "ipython3",
   "version": "3.7.1"
  }
 },
 "nbformat": 4,
 "nbformat_minor": 2
}
