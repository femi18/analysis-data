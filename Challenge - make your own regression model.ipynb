{
 "cells": [
  {
   "cell_type": "markdown",
   "metadata": {},
   "source": [
    "# Make your own regression model\n"
   ]
  },
  {
   "cell_type": "code",
   "execution_count": 1,
   "metadata": {},
   "outputs": [],
   "source": [
    "import pandas as pd\n",
    "from matplotlib import pyplot as plt\n",
    "import numpy as np\n",
    "import seaborn as sns\n",
    "from sklearn import linear_model\n",
    "%matplotlib inline\n",
    "pd.options.display.float_format = '{:.3f}'.format\n",
    "\n",
    "# Suppress annoying harmless error.\n",
    "import warnings\n",
    "warnings.filterwarnings(action=\"ignore\", module=\"scipy\", message=\"^internal gelsd\")"
   ]
  },
  {
   "cell_type": "code",
   "execution_count": 2,
   "metadata": {},
   "outputs": [
    {
     "data": {
      "text/html": [
       "<div>\n",
       "<style scoped>\n",
       "    .dataframe tbody tr th:only-of-type {\n",
       "        vertical-align: middle;\n",
       "    }\n",
       "\n",
       "    .dataframe tbody tr th {\n",
       "        vertical-align: top;\n",
       "    }\n",
       "\n",
       "    .dataframe thead th {\n",
       "        text-align: right;\n",
       "    }\n",
       "</style>\n",
       "<table border=\"1\" class=\"dataframe\">\n",
       "  <thead>\n",
       "    <tr style=\"text-align: right;\">\n",
       "      <th></th>\n",
       "      <th>Population</th>\n",
       "      <th>Violent_crime</th>\n",
       "      <th>Murder</th>\n",
       "      <th>Rape_revised</th>\n",
       "      <th>Rape</th>\n",
       "      <th>Robbery</th>\n",
       "      <th>Aggravated_assault</th>\n",
       "      <th>Property_crime</th>\n",
       "      <th>Burglary</th>\n",
       "      <th>Larceny_theft</th>\n",
       "      <th>Motor_vehicle_theft</th>\n",
       "      <th>Arson3</th>\n",
       "    </tr>\n",
       "    <tr>\n",
       "      <th>City</th>\n",
       "      <th></th>\n",
       "      <th></th>\n",
       "      <th></th>\n",
       "      <th></th>\n",
       "      <th></th>\n",
       "      <th></th>\n",
       "      <th></th>\n",
       "      <th></th>\n",
       "      <th></th>\n",
       "      <th></th>\n",
       "      <th></th>\n",
       "      <th></th>\n",
       "    </tr>\n",
       "  </thead>\n",
       "  <tbody>\n",
       "    <tr>\n",
       "      <th>Adams Village</th>\n",
       "      <td>1861</td>\n",
       "      <td>0</td>\n",
       "      <td>0</td>\n",
       "      <td>NaN</td>\n",
       "      <td>0</td>\n",
       "      <td>0</td>\n",
       "      <td>0</td>\n",
       "      <td>12</td>\n",
       "      <td>2</td>\n",
       "      <td>10</td>\n",
       "      <td>0</td>\n",
       "      <td>0</td>\n",
       "    </tr>\n",
       "    <tr>\n",
       "      <th>Addison Town and Village</th>\n",
       "      <td>2577</td>\n",
       "      <td>3</td>\n",
       "      <td>0</td>\n",
       "      <td>NaN</td>\n",
       "      <td>0</td>\n",
       "      <td>0</td>\n",
       "      <td>3</td>\n",
       "      <td>24</td>\n",
       "      <td>3</td>\n",
       "      <td>20</td>\n",
       "      <td>1</td>\n",
       "      <td>0</td>\n",
       "    </tr>\n",
       "    <tr>\n",
       "      <th>Akron Village</th>\n",
       "      <td>2846</td>\n",
       "      <td>3</td>\n",
       "      <td>0</td>\n",
       "      <td>NaN</td>\n",
       "      <td>0</td>\n",
       "      <td>0</td>\n",
       "      <td>3</td>\n",
       "      <td>16</td>\n",
       "      <td>1</td>\n",
       "      <td>15</td>\n",
       "      <td>0</td>\n",
       "      <td>0</td>\n",
       "    </tr>\n",
       "    <tr>\n",
       "      <th>Albany</th>\n",
       "      <td>97956</td>\n",
       "      <td>791</td>\n",
       "      <td>8</td>\n",
       "      <td>NaN</td>\n",
       "      <td>30</td>\n",
       "      <td>227</td>\n",
       "      <td>526</td>\n",
       "      <td>4090</td>\n",
       "      <td>705</td>\n",
       "      <td>3243</td>\n",
       "      <td>142</td>\n",
       "      <td>NaN</td>\n",
       "    </tr>\n",
       "    <tr>\n",
       "      <th>Albion Village</th>\n",
       "      <td>6388</td>\n",
       "      <td>23</td>\n",
       "      <td>0</td>\n",
       "      <td>NaN</td>\n",
       "      <td>3</td>\n",
       "      <td>4</td>\n",
       "      <td>16</td>\n",
       "      <td>223</td>\n",
       "      <td>53</td>\n",
       "      <td>165</td>\n",
       "      <td>5</td>\n",
       "      <td>NaN</td>\n",
       "    </tr>\n",
       "  </tbody>\n",
       "</table>\n",
       "</div>"
      ],
      "text/plain": [
       "                         Population Violent_crime Murder Rape_revised Rape  \\\n",
       "City                                                                         \n",
       "Adams Village                  1861             0      0          NaN    0   \n",
       "Addison Town and Village       2577             3      0          NaN    0   \n",
       "Akron Village                  2846             3      0          NaN    0   \n",
       "Albany                        97956           791      8          NaN   30   \n",
       "Albion Village                 6388            23      0          NaN    3   \n",
       "\n",
       "                         Robbery Aggravated_assault Property_crime Burglary  \\\n",
       "City                                                                          \n",
       "Adams Village                  0                  0             12        2   \n",
       "Addison Town and Village       0                  3             24        3   \n",
       "Akron Village                  0                  3             16        1   \n",
       "Albany                       227                526           4090      705   \n",
       "Albion Village                 4                 16            223       53   \n",
       "\n",
       "                         Larceny_theft Motor_vehicle_theft Arson3  \n",
       "City                                                               \n",
       "Adams Village                       10                   0      0  \n",
       "Addison Town and Village            20                   1      0  \n",
       "Akron Village                       15                   0      0  \n",
       "Albany                            3243                 142    NaN  \n",
       "Albion Village                     165                   5    NaN  "
      ]
     },
     "execution_count": 2,
     "metadata": {},
     "output_type": "execute_result"
    }
   ],
   "source": [
    "excel_file = 'table_8_offenses_known_to_law_enforcement_new_york_by_city_2013.xls'\n",
    "df = pd.read_excel(excel_file, index_col=0)\n",
    "df.index.names= ['City']\n",
    "df.columns = ['Population','Violent_crime','Murder' ,'Rape_revised','Rape','Robbery','Aggravated_assault','Property_crime','Burglary','Larceny_theft','Motor_vehicle_theft','Arson3']\n",
    "df = df.iloc[4:]\n",
    "df.drop(df.tail(3).index,inplace=True)\n",
    "df.head()"
   ]
  },
  {
   "cell_type": "code",
   "execution_count": 22,
   "metadata": {},
   "outputs": [
    {
     "data": {
      "text/html": [
       "<div>\n",
       "<style scoped>\n",
       "    .dataframe tbody tr th:only-of-type {\n",
       "        vertical-align: middle;\n",
       "    }\n",
       "\n",
       "    .dataframe tbody tr th {\n",
       "        vertical-align: top;\n",
       "    }\n",
       "\n",
       "    .dataframe thead th {\n",
       "        text-align: right;\n",
       "    }\n",
       "</style>\n",
       "<table border=\"1\" class=\"dataframe\">\n",
       "  <thead>\n",
       "    <tr style=\"text-align: right;\">\n",
       "      <th></th>\n",
       "      <th>Population</th>\n",
       "      <th>Murder</th>\n",
       "      <th>Robbery</th>\n",
       "      <th>Property_crime</th>\n",
       "    </tr>\n",
       "    <tr>\n",
       "      <th>City</th>\n",
       "      <th></th>\n",
       "      <th></th>\n",
       "      <th></th>\n",
       "      <th></th>\n",
       "    </tr>\n",
       "  </thead>\n",
       "  <tbody>\n",
       "    <tr>\n",
       "      <th>Adams Village</th>\n",
       "      <td>1861</td>\n",
       "      <td>0</td>\n",
       "      <td>0</td>\n",
       "      <td>12</td>\n",
       "    </tr>\n",
       "    <tr>\n",
       "      <th>Addison Town and Village</th>\n",
       "      <td>2577</td>\n",
       "      <td>0</td>\n",
       "      <td>0</td>\n",
       "      <td>24</td>\n",
       "    </tr>\n",
       "    <tr>\n",
       "      <th>Akron Village</th>\n",
       "      <td>2846</td>\n",
       "      <td>0</td>\n",
       "      <td>0</td>\n",
       "      <td>16</td>\n",
       "    </tr>\n",
       "    <tr>\n",
       "      <th>Albany</th>\n",
       "      <td>97956</td>\n",
       "      <td>8</td>\n",
       "      <td>227</td>\n",
       "      <td>4090</td>\n",
       "    </tr>\n",
       "    <tr>\n",
       "      <th>Albion Village</th>\n",
       "      <td>6388</td>\n",
       "      <td>0</td>\n",
       "      <td>4</td>\n",
       "      <td>223</td>\n",
       "    </tr>\n",
       "  </tbody>\n",
       "</table>\n",
       "</div>"
      ],
      "text/plain": [
       "                         Population Murder Robbery Property_crime\n",
       "City                                                             \n",
       "Adams Village                  1861      0       0             12\n",
       "Addison Town and Village       2577      0       0             24\n",
       "Akron Village                  2846      0       0             16\n",
       "Albany                        97956      8     227           4090\n",
       "Albion Village                 6388      0       4            223"
      ]
     },
     "execution_count": 22,
     "metadata": {},
     "output_type": "execute_result"
    }
   ],
   "source": [
    "propertycrime = df[['Population','Murder','Robbery','Property_crime']]\n",
    "propertycrime.head()"
   ]
  },
  {
   "cell_type": "code",
   "execution_count": null,
   "metadata": {},
   "outputs": [],
   "source": []
  },
  {
   "cell_type": "code",
   "execution_count": 24,
   "metadata": {},
   "outputs": [
    {
     "data": {
      "image/png": "[encoded data removed]",
      "text/plain": [
       "<Figure size 720x360 with 1 Axes>"
      ]
     },
     "metadata": {},
     "output_type": "display_data"
    }
   ],
   "source": [
    "plt.figure(figsize = (10,5))\n",
    "\n",
    "# Setting the default plot aesthetics to be prettier.\n",
    "sns.set_style(\"white\")\n",
    "\n",
    "t = sns.regplot(\n",
    "    'Population',\n",
    "    'Property_crime',\n",
    "    propertycrime,\n",
    "    x_jitter=.49,\n",
    "    y_jitter=.49,\n",
    "    fit_reg=False\n",
    ")\n",
    "t.set(xlim=(-1, 11), ylim=(-1, 11))\n",
    "t.axhline(0, color='k', linestyle='-', linewidth=2)\n",
    "t.axvline(0, color='k', linestyle='-', linewidth=2)\n",
    "t.axes.set_title('Raw data')\n",
    "plt.show()"
   ]
  },
  {
   "cell_type": "code",
   "execution_count": 28,
   "metadata": {},
   "outputs": [
    {
     "name": "stderr",
     "output_type": "stream",
     "text": [
      "C:\\Users\\femis\\Anaconda3\\lib\\site-packages\\ipykernel_launcher.py:3: SettingWithCopyWarning: \n",
      "A value is trying to be set on a copy of a slice from a DataFrame.\n",
      "Try using .loc[row_indexer,col_indexer] = value instead\n",
      "\n",
      "See the caveats in the documentation: http://pandas.pydata.org/pandas-docs/stable/indexing.html#indexing-view-versus-copy\n",
      "  This is separate from the ipykernel package so we can avoid doing imports until\n",
      "C:\\Users\\femis\\Anaconda3\\lib\\site-packages\\ipykernel_launcher.py:4: SettingWithCopyWarning: \n",
      "A value is trying to be set on a copy of a slice from a DataFrame.\n",
      "Try using .loc[row_indexer,col_indexer] = value instead\n",
      "\n",
      "See the caveats in the documentation: http://pandas.pydata.org/pandas-docs/stable/indexing.html#indexing-view-versus-copy\n",
      "  after removing the cwd from sys.path.\n",
      "C:\\Users\\femis\\Anaconda3\\lib\\site-packages\\ipykernel_launcher.py:5: SettingWithCopyWarning: \n",
      "A value is trying to be set on a copy of a slice from a DataFrame.\n",
      "Try using .loc[row_indexer,col_indexer] = value instead\n",
      "\n",
      "See the caveats in the documentation: http://pandas.pydata.org/pandas-docs/stable/indexing.html#indexing-view-versus-copy\n",
      "  \"\"\"\n",
      "C:\\Users\\femis\\Anaconda3\\lib\\site-packages\\ipykernel_launcher.py:6: SettingWithCopyWarning: \n",
      "A value is trying to be set on a copy of a slice from a DataFrame.\n",
      "Try using .loc[row_indexer,col_indexer] = value instead\n",
      "\n",
      "See the caveats in the documentation: http://pandas.pydata.org/pandas-docs/stable/indexing.html#indexing-view-versus-copy\n",
      "  \n"
     ]
    },
    {
     "data": {
      "image/png": "[encoded data removed]",
      "text/plain": [
       "<Figure size 720x360 with 1 Axes>"
      ]
     },
     "metadata": {},
     "output_type": "display_data"
    }
   ],
   "source": [
    "#Standardizing the data\n",
    "\n",
    "plt.figure(figsize = (10,5))\n",
    "\n",
    "propertycrime['Population_'] = (propertycrime['Population'] - propertycrime['Population'].mean()) / propertycrime['Population'].std()\n",
    "propertycrime['Murder_'] = (propertycrime['Murder'] - propertycrime['Murder'].mean()) / propertycrime['Murder'].std()\n",
    "propertycrime['Robbery_'] = (propertycrime['Robbery'] - propertycrime['Robbery'].mean()) / propertycrime['Robbery'].std()\n",
    "propertycrime['Property_crime_'] = (propertycrime['Property_crime'] - propertycrime['Property_crime'].mean()) / propertycrime['Property_crime'].std()\n",
    "\n",
    "t = sns.regplot(\n",
    "    'Population_',\n",
    "    'Property_crime_',\n",
    "    propertycrime,\n",
    "    x_jitter=.49,\n",
    "    y_jitter=.49,\n",
    "    fit_reg=False\n",
    ")\n",
    "t.axhline(0, color='k', linestyle='-', linewidth=2)\n",
    "t.axvline(0, color='k', linestyle='-', linewidth=2)\n",
    "t.axes.set_title('Standardized data')\n",
    "plt.show()"
   ]
  },
  {
   "cell_type": "code",
   "execution_count": 29,
   "metadata": {},
   "outputs": [
    {
     "data": {
      "text/html": [
       "<div>\n",
       "<style scoped>\n",
       "    .dataframe tbody tr th:only-of-type {\n",
       "        vertical-align: middle;\n",
       "    }\n",
       "\n",
       "    .dataframe tbody tr th {\n",
       "        vertical-align: top;\n",
       "    }\n",
       "\n",
       "    .dataframe thead th {\n",
       "        text-align: right;\n",
       "    }\n",
       "</style>\n",
       "<table border=\"1\" class=\"dataframe\">\n",
       "  <thead>\n",
       "    <tr style=\"text-align: right;\">\n",
       "      <th></th>\n",
       "      <th>Population</th>\n",
       "      <th>Murder</th>\n",
       "      <th>Robbery</th>\n",
       "      <th>Property_crime</th>\n",
       "      <th>Population_</th>\n",
       "      <th>Property_crime_</th>\n",
       "      <th>Murder_</th>\n",
       "      <th>Robbery_</th>\n",
       "    </tr>\n",
       "    <tr>\n",
       "      <th>City</th>\n",
       "      <th></th>\n",
       "      <th></th>\n",
       "      <th></th>\n",
       "      <th></th>\n",
       "      <th></th>\n",
       "      <th></th>\n",
       "      <th></th>\n",
       "      <th></th>\n",
       "    </tr>\n",
       "  </thead>\n",
       "  <tbody>\n",
       "    <tr>\n",
       "      <th>Adams Village</th>\n",
       "      <td>1861</td>\n",
       "      <td>0</td>\n",
       "      <td>0</td>\n",
       "      <td>12</td>\n",
       "      <td>-0.085</td>\n",
       "      <td>-0.102</td>\n",
       "      <td>-0.086</td>\n",
       "      <td>-0.071</td>\n",
       "    </tr>\n",
       "    <tr>\n",
       "      <th>Addison Town and Village</th>\n",
       "      <td>2577</td>\n",
       "      <td>0</td>\n",
       "      <td>0</td>\n",
       "      <td>24</td>\n",
       "      <td>-0.083</td>\n",
       "      <td>-0.100</td>\n",
       "      <td>-0.086</td>\n",
       "      <td>-0.071</td>\n",
       "    </tr>\n",
       "    <tr>\n",
       "      <th>Akron Village</th>\n",
       "      <td>2846</td>\n",
       "      <td>0</td>\n",
       "      <td>0</td>\n",
       "      <td>16</td>\n",
       "      <td>-0.083</td>\n",
       "      <td>-0.101</td>\n",
       "      <td>-0.086</td>\n",
       "      <td>-0.071</td>\n",
       "    </tr>\n",
       "    <tr>\n",
       "      <th>Albany</th>\n",
       "      <td>97956</td>\n",
       "      <td>8</td>\n",
       "      <td>227</td>\n",
       "      <td>4090</td>\n",
       "      <td>0.129</td>\n",
       "      <td>0.430</td>\n",
       "      <td>0.352</td>\n",
       "      <td>0.149</td>\n",
       "    </tr>\n",
       "    <tr>\n",
       "      <th>Albion Village</th>\n",
       "      <td>6388</td>\n",
       "      <td>0</td>\n",
       "      <td>4</td>\n",
       "      <td>223</td>\n",
       "      <td>-0.075</td>\n",
       "      <td>-0.074</td>\n",
       "      <td>-0.086</td>\n",
       "      <td>-0.067</td>\n",
       "    </tr>\n",
       "  </tbody>\n",
       "</table>\n",
       "</div>"
      ],
      "text/plain": [
       "                         Population Murder Robbery Property_crime Population_  \\\n",
       "City                                                                            \n",
       "Adams Village                  1861      0       0             12      -0.085   \n",
       "Addison Town and Village       2577      0       0             24      -0.083   \n",
       "Akron Village                  2846      0       0             16      -0.083   \n",
       "Albany                        97956      8     227           4090       0.129   \n",
       "Albion Village                 6388      0       4            223      -0.075   \n",
       "\n",
       "                         Property_crime_ Murder_ Robbery_  \n",
       "City                                                       \n",
       "Adams Village                     -0.102  -0.086   -0.071  \n",
       "Addison Town and Village          -0.100  -0.086   -0.071  \n",
       "Akron Village                     -0.101  -0.086   -0.071  \n",
       "Albany                             0.430   0.352    0.149  \n",
       "Albion Village                    -0.074  -0.086   -0.067  "
      ]
     },
     "metadata": {},
     "output_type": "display_data"
    }
   ],
   "source": [
    "display(propertycrime.head())"
   ]
  },
  {
   "cell_type": "markdown",
   "metadata": {},
   "source": [
    "# Extraordinary Power of Explanatory Power"
   ]
  },
  {
   "cell_type": "code",
   "execution_count": 50,
   "metadata": {},
   "outputs": [
    {
     "ename": "ValueError",
     "evalue": "Expected 2D array, got 1D array instead:\narray=[-0.08556162 -0.08556162 -0.08556162  0.35150913 -0.08556162 -0.08556162\n -0.08556162 -0.03092778 -0.08556162 -0.08556162 -0.08556162 -0.08556162\n -0.08556162 -0.08556162 -0.03092778 -0.08556162 -0.08556162 -0.08556162\n -0.08556162 -0.08556162 -0.08556162 -0.08556162  0.07833991 -0.08556162\n -0.08556162 -0.08556162 -0.08556162 -0.08556162 -0.08556162 -0.08556162\n -0.08556162 -0.03092778 -0.03092778 -0.08556162 -0.08556162  2.48222903\n -0.08556162 -0.08556162 -0.08556162 -0.08556162 -0.08556162 -0.08556162\n -0.08556162 -0.08556162 -0.08556162 -0.08556162 -0.08556162 -0.08556162\n -0.08556162 -0.08556162 -0.08556162 -0.08556162 -0.08556162 -0.08556162\n -0.08556162 -0.08556162 -0.08556162 -0.08556162 -0.08556162 -0.08556162\n -0.08556162 -0.08556162 -0.08556162 -0.08556162 -0.08556162 -0.08556162\n -0.08556162 -0.08556162 -0.08556162 -0.08556162 -0.08556162 -0.08556162\n -0.08556162 -0.08556162 -0.08556162 -0.08556162 -0.08556162 -0.08556162\n -0.08556162 -0.08556162 -0.08556162 -0.08556162 -0.08556162 -0.08556162\n -0.03092778 -0.08556162 -0.08556162 -0.08556162 -0.03092778 -0.08556162\n -0.08556162 -0.08556162 -0.08556162 -0.08556162 -0.08556162 -0.08556162\n -0.08556162 -0.08556162 -0.08556162 -0.03092778 -0.08556162 -0.08556162\n -0.08556162 -0.08556162 -0.08556162 -0.08556162 -0.08556162 -0.08556162\n -0.08556162 -0.08556162 -0.08556162 -0.08556162 -0.08556162 -0.08556162\n -0.08556162 -0.03092778 -0.08556162 -0.08556162 -0.08556162 -0.08556162\n -0.08556162 -0.08556162 -0.08556162 -0.08556162 -0.08556162 -0.08556162\n -0.08556162 -0.03092778 -0.08556162 -0.08556162 -0.08556162 -0.08556162\n -0.08556162 -0.08556162 -0.03092778 -0.08556162 -0.08556162 -0.08556162\n -0.08556162 -0.08556162  0.46077681 -0.08556162 -0.08556162 -0.08556162\n -0.08556162 -0.08556162 -0.08556162 -0.08556162 -0.08556162 -0.08556162\n -0.08556162 -0.08556162 -0.03092778 -0.08556162 -0.08556162 -0.03092778\n -0.08556162 -0.08556162 -0.03092778 -0.08556162 -0.08556162 -0.03092778\n -0.08556162 -0.03092778 -0.08556162 -0.08556162 -0.08556162 -0.08556162\n -0.08556162 -0.08556162 -0.08556162 -0.08556162 -0.08556162 -0.08556162\n -0.08556162 -0.08556162 -0.08556162 -0.08556162 -0.08556162 -0.08556162\n -0.08556162 -0.08556162 -0.08556162 -0.08556162 -0.08556162 -0.08556162\n -0.08556162 -0.08556162 -0.08556162 -0.08556162 -0.08556162 -0.08556162\n -0.08556162 -0.08556162 -0.08556162 -0.03092778 -0.08556162 -0.08556162\n -0.08556162 -0.08556162 -0.08556162 -0.08556162 -0.08556162 -0.08556162\n -0.08556162 -0.08556162  0.02370606 -0.08556162 -0.08556162  0.1876076\n -0.08556162 -0.08556162 -0.08556162 -0.08556162 -0.08556162 -0.08556162\n 18.21677604 -0.08556162  0.07833991 -0.08556162 -0.08556162 -0.08556162\n -0.08556162 -0.08556162 -0.08556162 -0.08556162 -0.03092778 -0.08556162\n -0.08556162 -0.08556162 -0.08556162 -0.08556162 -0.08556162 -0.08556162\n -0.08556162 -0.08556162 -0.08556162 -0.08556162 -0.08556162 -0.08556162\n -0.03092778 -0.08556162 -0.08556162 -0.08556162 -0.08556162 -0.08556162\n -0.08556162 -0.08556162 -0.08556162 -0.08556162 -0.08556162 -0.08556162\n -0.08556162 -0.08556162 -0.08556162 -0.08556162 -0.08556162 -0.08556162\n -0.08556162 -0.03092778 -0.08556162 -0.08556162  0.29687528 -0.03092778\n -0.08556162 -0.08556162 -0.08556162  0.02370606 -0.08556162 -0.08556162\n -0.08556162 -0.08556162  2.20905982 -0.03092778  0.13297375 -0.08556162\n  0.02370606 -0.08556162 -0.08556162 -0.08556162 -0.08556162 -0.03092778\n -0.03092778 -0.08556162 -0.08556162  0.35150913 -0.08556162 -0.08556162\n -0.03092778 -0.08556162 -0.08556162 -0.08556162 -0.08556162 -0.08556162\n -0.08556162 -0.08556162 -0.08556162 -0.08556162 -0.03092778 -0.08556162\n -0.08556162 -0.08556162 -0.08556162 -0.08556162 -0.08556162  0.02370606\n -0.08556162 -0.08556162 -0.08556162 -0.08556162  1.0617491  -0.08556162\n -0.08556162 -0.08556162 -0.03092778 -0.03092778 -0.08556162 -0.08556162\n -0.08556162 -0.08556162 -0.08556162  0.29687528 -0.08556162 -0.03092778\n -0.08556162 -0.08556162 -0.08556162 -0.08556162 -0.08556162 -0.08556162\n -0.08556162 -0.03092778 -0.08556162 -0.08556162 -0.08556162 -0.08556162\n -0.08556162 -0.08556162 -0.03092778 -0.08556162 -0.03092778 -0.08556162\n -0.08556162 -0.08556162 -0.08556162 -0.08556162  0.24224144 -0.08556162].\nReshape your data either using array.reshape(-1, 1) if your data has a single feature or array.reshape(1, -1) if it contains a single sample.",
     "output_type": "error",
     "traceback": [
      "\u001b[1;31m---------------------------------------------------------------------------\u001b[0m",
      "\u001b[1;31mValueError\u001b[0m                                Traceback (most recent call last)",
      "\u001b[1;32m<ipython-input-50-b487586587e5>\u001b[0m in \u001b[0;36m<module>\u001b[1;34m\u001b[0m\n\u001b[0;32m      8\u001b[0m \u001b[1;31m# Plot outputs\u001b[0m\u001b[1;33m\u001b[0m\u001b[1;33m\u001b[0m\u001b[1;33m\u001b[0m\u001b[0m\n\u001b[0;32m      9\u001b[0m \u001b[0mplt\u001b[0m\u001b[1;33m.\u001b[0m\u001b[0mscatter\u001b[0m\u001b[1;33m(\u001b[0m\u001b[0mx\u001b[0m\u001b[1;33m,\u001b[0m \u001b[0my\u001b[0m\u001b[1;33m,\u001b[0m \u001b[0mcolor\u001b[0m\u001b[1;33m=\u001b[0m\u001b[1;34m'black'\u001b[0m\u001b[1;33m)\u001b[0m\u001b[1;33m\u001b[0m\u001b[1;33m\u001b[0m\u001b[0m\n\u001b[1;32m---> 10\u001b[1;33m \u001b[0mplt\u001b[0m\u001b[1;33m.\u001b[0m\u001b[0mplot\u001b[0m\u001b[1;33m(\u001b[0m\u001b[0mx\u001b[0m\u001b[1;33m,\u001b[0m \u001b[0mregr\u001b[0m\u001b[1;33m.\u001b[0m\u001b[0mpredict\u001b[0m\u001b[1;33m(\u001b[0m\u001b[0mx\u001b[0m\u001b[1;33m)\u001b[0m\u001b[1;33m,\u001b[0m \u001b[0mcolor\u001b[0m\u001b[1;33m=\u001b[0m\u001b[1;34m'blue'\u001b[0m\u001b[1;33m,\u001b[0m \u001b[0mlinewidth\u001b[0m\u001b[1;33m=\u001b[0m\u001b[1;36m3\u001b[0m\u001b[1;33m)\u001b[0m\u001b[1;33m\u001b[0m\u001b[1;33m\u001b[0m\u001b[0m\n\u001b[0m\u001b[0;32m     11\u001b[0m \u001b[0mplt\u001b[0m\u001b[1;33m.\u001b[0m\u001b[0mshow\u001b[0m\u001b[1;33m(\u001b[0m\u001b[1;33m)\u001b[0m\u001b[1;33m\u001b[0m\u001b[1;33m\u001b[0m\u001b[0m\n\u001b[0;32m     12\u001b[0m \u001b[1;33m\u001b[0m\u001b[0m\n",
      "\u001b[1;32m~\\Anaconda3\\lib\\site-packages\\sklearn\\linear_model\\base.py\u001b[0m in \u001b[0;36mpredict\u001b[1;34m(self, X)\u001b[0m\n\u001b[0;32m    211\u001b[0m             \u001b[0mReturns\u001b[0m \u001b[0mpredicted\u001b[0m \u001b[0mvalues\u001b[0m\u001b[1;33m.\u001b[0m\u001b[1;33m\u001b[0m\u001b[1;33m\u001b[0m\u001b[0m\n\u001b[0;32m    212\u001b[0m         \"\"\"\n\u001b[1;32m--> 213\u001b[1;33m         \u001b[1;32mreturn\u001b[0m \u001b[0mself\u001b[0m\u001b[1;33m.\u001b[0m\u001b[0m_decision_function\u001b[0m\u001b[1;33m(\u001b[0m\u001b[0mX\u001b[0m\u001b[1;33m)\u001b[0m\u001b[1;33m\u001b[0m\u001b[1;33m\u001b[0m\u001b[0m\n\u001b[0m\u001b[0;32m    214\u001b[0m \u001b[1;33m\u001b[0m\u001b[0m\n\u001b[0;32m    215\u001b[0m     \u001b[0m_preprocess_data\u001b[0m \u001b[1;33m=\u001b[0m \u001b[0mstaticmethod\u001b[0m\u001b[1;33m(\u001b[0m\u001b[0m_preprocess_data\u001b[0m\u001b[1;33m)\u001b[0m\u001b[1;33m\u001b[0m\u001b[1;33m\u001b[0m\u001b[0m\n",
      "\u001b[1;32m~\\Anaconda3\\lib\\site-packages\\sklearn\\linear_model\\base.py\u001b[0m in \u001b[0;36m_decision_function\u001b[1;34m(self, X)\u001b[0m\n\u001b[0;32m    194\u001b[0m         \u001b[0mcheck_is_fitted\u001b[0m\u001b[1;33m(\u001b[0m\u001b[0mself\u001b[0m\u001b[1;33m,\u001b[0m \u001b[1;34m\"coef_\"\u001b[0m\u001b[1;33m)\u001b[0m\u001b[1;33m\u001b[0m\u001b[1;33m\u001b[0m\u001b[0m\n\u001b[0;32m    195\u001b[0m \u001b[1;33m\u001b[0m\u001b[0m\n\u001b[1;32m--> 196\u001b[1;33m         \u001b[0mX\u001b[0m \u001b[1;33m=\u001b[0m \u001b[0mcheck_array\u001b[0m\u001b[1;33m(\u001b[0m\u001b[0mX\u001b[0m\u001b[1;33m,\u001b[0m \u001b[0maccept_sparse\u001b[0m\u001b[1;33m=\u001b[0m\u001b[1;33m[\u001b[0m\u001b[1;34m'csr'\u001b[0m\u001b[1;33m,\u001b[0m \u001b[1;34m'csc'\u001b[0m\u001b[1;33m,\u001b[0m \u001b[1;34m'coo'\u001b[0m\u001b[1;33m]\u001b[0m\u001b[1;33m)\u001b[0m\u001b[1;33m\u001b[0m\u001b[1;33m\u001b[0m\u001b[0m\n\u001b[0m\u001b[0;32m    197\u001b[0m         return safe_sparse_dot(X, self.coef_.T,\n\u001b[0;32m    198\u001b[0m                                dense_output=True) + self.intercept_\n",
      "\u001b[1;32m~\\Anaconda3\\lib\\site-packages\\sklearn\\utils\\validation.py\u001b[0m in \u001b[0;36mcheck_array\u001b[1;34m(array, accept_sparse, accept_large_sparse, dtype, order, copy, force_all_finite, ensure_2d, allow_nd, ensure_min_samples, ensure_min_features, warn_on_dtype, estimator)\u001b[0m\n\u001b[0;32m    550\u001b[0m                     \u001b[1;34m\"Reshape your data either using array.reshape(-1, 1) if \"\u001b[0m\u001b[1;33m\u001b[0m\u001b[1;33m\u001b[0m\u001b[0m\n\u001b[0;32m    551\u001b[0m                     \u001b[1;34m\"your data has a single feature or array.reshape(1, -1) \"\u001b[0m\u001b[1;33m\u001b[0m\u001b[1;33m\u001b[0m\u001b[0m\n\u001b[1;32m--> 552\u001b[1;33m                     \"if it contains a single sample.\".format(array))\n\u001b[0m\u001b[0;32m    553\u001b[0m \u001b[1;33m\u001b[0m\u001b[0m\n\u001b[0;32m    554\u001b[0m         \u001b[1;31m# in the future np.flexible dtypes will be handled like object dtypes\u001b[0m\u001b[1;33m\u001b[0m\u001b[1;33m\u001b[0m\u001b[1;33m\u001b[0m\u001b[0m\n",
      "\u001b[1;31mValueError\u001b[0m: Expected 2D array, got 1D array instead:\narray=[-0.08556162 -0.08556162 -0.08556162  0.35150913 -0.08556162 -0.08556162\n -0.08556162 -0.03092778 -0.08556162 -0.08556162 -0.08556162 -0.08556162\n -0.08556162 -0.08556162 -0.03092778 -0.08556162 -0.08556162 -0.08556162\n -0.08556162 -0.08556162 -0.08556162 -0.08556162  0.07833991 -0.08556162\n -0.08556162 -0.08556162 -0.08556162 -0.08556162 -0.08556162 -0.08556162\n -0.08556162 -0.03092778 -0.03092778 -0.08556162 -0.08556162  2.48222903\n -0.08556162 -0.08556162 -0.08556162 -0.08556162 -0.08556162 -0.08556162\n -0.08556162 -0.08556162 -0.08556162 -0.08556162 -0.08556162 -0.08556162\n -0.08556162 -0.08556162 -0.08556162 -0.08556162 -0.08556162 -0.08556162\n -0.08556162 -0.08556162 -0.08556162 -0.08556162 -0.08556162 -0.08556162\n -0.08556162 -0.08556162 -0.08556162 -0.08556162 -0.08556162 -0.08556162\n -0.08556162 -0.08556162 -0.08556162 -0.08556162 -0.08556162 -0.08556162\n -0.08556162 -0.08556162 -0.08556162 -0.08556162 -0.08556162 -0.08556162\n -0.08556162 -0.08556162 -0.08556162 -0.08556162 -0.08556162 -0.08556162\n -0.03092778 -0.08556162 -0.08556162 -0.08556162 -0.03092778 -0.08556162\n -0.08556162 -0.08556162 -0.08556162 -0.08556162 -0.08556162 -0.08556162\n -0.08556162 -0.08556162 -0.08556162 -0.03092778 -0.08556162 -0.08556162\n -0.08556162 -0.08556162 -0.08556162 -0.08556162 -0.08556162 -0.08556162\n -0.08556162 -0.08556162 -0.08556162 -0.08556162 -0.08556162 -0.08556162\n -0.08556162 -0.03092778 -0.08556162 -0.08556162 -0.08556162 -0.08556162\n -0.08556162 -0.08556162 -0.08556162 -0.08556162 -0.08556162 -0.08556162\n -0.08556162 -0.03092778 -0.08556162 -0.08556162 -0.08556162 -0.08556162\n -0.08556162 -0.08556162 -0.03092778 -0.08556162 -0.08556162 -0.08556162\n -0.08556162 -0.08556162  0.46077681 -0.08556162 -0.08556162 -0.08556162\n -0.08556162 -0.08556162 -0.08556162 -0.08556162 -0.08556162 -0.08556162\n -0.08556162 -0.08556162 -0.03092778 -0.08556162 -0.08556162 -0.03092778\n -0.08556162 -0.08556162 -0.03092778 -0.08556162 -0.08556162 -0.03092778\n -0.08556162 -0.03092778 -0.08556162 -0.08556162 -0.08556162 -0.08556162\n -0.08556162 -0.08556162 -0.08556162 -0.08556162 -0.08556162 -0.08556162\n -0.08556162 -0.08556162 -0.08556162 -0.08556162 -0.08556162 -0.08556162\n -0.08556162 -0.08556162 -0.08556162 -0.08556162 -0.08556162 -0.08556162\n -0.08556162 -0.08556162 -0.08556162 -0.08556162 -0.08556162 -0.08556162\n -0.08556162 -0.08556162 -0.08556162 -0.03092778 -0.08556162 -0.08556162\n -0.08556162 -0.08556162 -0.08556162 -0.08556162 -0.08556162 -0.08556162\n -0.08556162 -0.08556162  0.02370606 -0.08556162 -0.08556162  0.1876076\n -0.08556162 -0.08556162 -0.08556162 -0.08556162 -0.08556162 -0.08556162\n 18.21677604 -0.08556162  0.07833991 -0.08556162 -0.08556162 -0.08556162\n -0.08556162 -0.08556162 -0.08556162 -0.08556162 -0.03092778 -0.08556162\n -0.08556162 -0.08556162 -0.08556162 -0.08556162 -0.08556162 -0.08556162\n -0.08556162 -0.08556162 -0.08556162 -0.08556162 -0.08556162 -0.08556162\n -0.03092778 -0.08556162 -0.08556162 -0.08556162 -0.08556162 -0.08556162\n -0.08556162 -0.08556162 -0.08556162 -0.08556162 -0.08556162 -0.08556162\n -0.08556162 -0.08556162 -0.08556162 -0.08556162 -0.08556162 -0.08556162\n -0.08556162 -0.03092778 -0.08556162 -0.08556162  0.29687528 -0.03092778\n -0.08556162 -0.08556162 -0.08556162  0.02370606 -0.08556162 -0.08556162\n -0.08556162 -0.08556162  2.20905982 -0.03092778  0.13297375 -0.08556162\n  0.02370606 -0.08556162 -0.08556162 -0.08556162 -0.08556162 -0.03092778\n -0.03092778 -0.08556162 -0.08556162  0.35150913 -0.08556162 -0.08556162\n -0.03092778 -0.08556162 -0.08556162 -0.08556162 -0.08556162 -0.08556162\n -0.08556162 -0.08556162 -0.08556162 -0.08556162 -0.03092778 -0.08556162\n -0.08556162 -0.08556162 -0.08556162 -0.08556162 -0.08556162  0.02370606\n -0.08556162 -0.08556162 -0.08556162 -0.08556162  1.0617491  -0.08556162\n -0.08556162 -0.08556162 -0.03092778 -0.03092778 -0.08556162 -0.08556162\n -0.08556162 -0.08556162 -0.08556162  0.29687528 -0.08556162 -0.03092778\n -0.08556162 -0.08556162 -0.08556162 -0.08556162 -0.08556162 -0.08556162\n -0.08556162 -0.03092778 -0.08556162 -0.08556162 -0.08556162 -0.08556162\n -0.08556162 -0.08556162 -0.03092778 -0.08556162 -0.03092778 -0.08556162\n -0.08556162 -0.08556162 -0.08556162 -0.08556162  0.24224144 -0.08556162].\nReshape your data either using array.reshape(-1, 1) if your data has a single feature or array.reshape(1, -1) if it contains a single sample."
     ]
    },
    {
     "data": {
      "image/png": "[encoded data removed]",
      "text/plain": [
       "<Figure size 432x288 with 1 Axes>"
      ]
     },
     "metadata": {},
     "output_type": "display_data"
    }
   ],
   "source": [
    "\n",
    "# Instantiate and fit our model.\n",
    "regr = linear_model.LinearRegression()\n",
    "Y = propertycrime['Property_crime_'].values.reshape(-1, 1)\n",
    "X = propertycrime[['Population_','Murder_','Robbery_']]\n",
    "regr.fit(X, Y)\n",
    "\n",
    "# Plot outputs\n",
    "plt.scatter(x, y, color='black')\n",
    "plt.plot(x, regr.predict(x), color='blue', linewidth=3)\n",
    "plt.show()\n",
    "\n"
   ]
  },
  {
   "cell_type": "code",
   "execution_count": 51,
   "metadata": {},
   "outputs": [
    {
     "name": "stdout",
     "output_type": "stream",
     "text": [
      "\n",
      "Coefficients: \n",
      " [[ 0.71606438  0.54599799 -0.25896361]]\n",
      "\n",
      "Intercept: \n",
      " [9.8976232e-18]\n",
      "\n",
      "R-squared:\n",
      "0.9983708205913117\n"
     ]
    }
   ],
   "source": [
    "# Inspect the results.\n",
    "print('\\nCoefficients: \\n', regr.coef_)\n",
    "print('\\nIntercept: \\n', regr.intercept_)\n",
    "print('\\nR-squared:')\n",
    "print(regr.score(X, Y))"
   ]
  },
  {
   "cell_type": "markdown",
   "metadata": {},
   "source": [
    "The outcome Property crime is predicted by the features Population, Murder, and Robbery explains 99.8% of the variance in Property crime.\n",
    "\n",
    "Property crime have the highest per-unit increase when based on Population (0.716)."
   ]
  },
  {
   "cell_type": "markdown",
   "metadata": {},
   "source": [
    "# Linear relationship\n",
    " \n",
    "  features in a regression need to have a linear relationship with the outcome. If the relationship is non-linear, the regression model will try to find any hint of a linear relationship, and only explain that – with predictable consequences for the validity of the model.\n",
    "\n",
    "Sometimes this can be fixed by applying a non-linear transformation function to a feature."
   ]
  },
  {
   "cell_type": "code",
   "execution_count": 40,
   "metadata": {},
   "outputs": [
    {
     "data": {
      "image/png": "[encoded data removed]",
      "text/plain": [
       "<Figure size 432x288 with 1 Axes>"
      ]
     },
     "metadata": {},
     "output_type": "display_data"
    }
   ],
   "source": [
    "import math\n",
    "import warnings\n",
    "import statsmodels.formula.api as smf\n",
    "from IPython.display import display\n",
    "\n",
    "# Sample data.\n",
    "outcome = propertycrime['Property_crime']\n",
    "feature = propertycrime['Population']\n",
    "\n",
    "# Plot the data as-is. Looks a mite quadratic.\n",
    "plt.scatter(outcome, feature)\n",
    "plt.title('Raw values')\n",
    "plt.show()\n",
    "\n"
   ]
  },
  {
   "cell_type": "code",
   "execution_count": 41,
   "metadata": {},
   "outputs": [
    {
     "data": {
      "image/png": "[encoded data removed]",
      "text/plain": [
       "<Figure size 432x288 with 1 Axes>"
      ]
     },
     "metadata": {},
     "output_type": "display_data"
    }
   ],
   "source": [
    "# Create a feature using a non-linear transformation.\n",
    "sqrt_feature = [math.sqrt(x) for x in  feature]\n",
    "\n",
    "\n",
    "plt.scatter(outcome, sqrt_feature)\n",
    "plt.title('Transformed values')\n",
    "plt.show()"
   ]
  },
  {
   "cell_type": "markdown",
   "metadata": {},
   "source": []
  },
  {
   "cell_type": "code",
   "execution_count": null,
   "metadata": {},
   "outputs": [],
   "source": []
  },
  {
   "cell_type": "markdown",
   "metadata": {},
   "source": [
    "# Multivariate normality\n",
    "\n",
    "The error from the model (calculated by subtracting the model-predicted values from the real outcome values) should be normally distributed."
   ]
  },
  {
   "cell_type": "code",
   "execution_count": 42,
   "metadata": {},
   "outputs": [
    {
     "data": {
      "image/png": "[encoded data removed]",
      "text/plain": [
       "<Figure size 432x288 with 1 Axes>"
      ]
     },
     "metadata": {},
     "output_type": "display_data"
    }
   ],
   "source": [
    "# Extract predicted values.\n",
    "predicted = regr.predict(X).ravel()\n",
    "actual = propertycrime['Property_crime']\n",
    "\n",
    "# Calculate the error, also called the residual.\n",
    "residual = actual - predicted\n",
    "\n",
    "# This looks a bit concerning.\n",
    "plt.hist(residual)\n",
    "plt.title('Residual counts')\n",
    "plt.xlabel('Residual')\n",
    "plt.ylabel('Count')\n",
    "plt.show()"
   ]
  },
  {
   "cell_type": "markdown",
   "metadata": {},
   "source": [
    "# Homoscedasticity\n",
    "\n",
    "The distribution of your error terms (its \"scedasticity\"), should be consistent for all predicted values, or homoscedastic."
   ]
  },
  {
   "cell_type": "code",
   "execution_count": 43,
   "metadata": {},
   "outputs": [
    {
     "data": {
      "image/png": "[encoded data removed]",
      "text/plain": [
       "<Figure size 432x288 with 1 Axes>"
      ]
     },
     "metadata": {},
     "output_type": "display_data"
    }
   ],
   "source": [
    "plt.scatter(predicted, residual)\n",
    "plt.xlabel('Predicted')\n",
    "plt.ylabel('Residual')\n",
    "plt.axhline(y=0)\n",
    "plt.title('Residual vs. Predicted')\n",
    "plt.show()"
   ]
  },
  {
   "cell_type": "code",
   "execution_count": null,
   "metadata": {},
   "outputs": [],
   "source": []
  }
 ],
 "metadata": {
  "kernelspec": {
   "display_name": "Python 3",
   "language": "python",
   "name": "python3"
  },
  "language_info": {
   "codemirror_mode": {
    "name": "ipython",
    "version": 3
   },
   "file_extension": ".py",
   "mimetype": "text/x-python",
   "name": "python",
   "nbconvert_exporter": "python",
   "pygments_lexer": "ipython3",
   "version": "3.7.1"
  }
 },
 "nbformat": 4,
 "nbformat_minor": 2
}
